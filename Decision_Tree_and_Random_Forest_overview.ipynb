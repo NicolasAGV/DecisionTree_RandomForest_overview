{
 "cells": [
  {
   "cell_type": "code",
   "execution_count": 63,
   "metadata": {
    "id": "fLhrXtyJXl0U"
   },
   "outputs": [],
   "source": [
    "import pandas as pd\n",
    "import numpy as np\n",
    "from numpy.random import shuffle\n",
    "import matplotlib.pyplot as plt\n",
    "from sklearn.ensemble import RandomForestRegressor, RandomForestClassifier\n",
    "from sklearn.feature_selection import SelectKBest\n",
    "from sklearn.metrics import mean_squared_error, confusion_matrix, roc_curve, roc_auc_score\n",
    "from sklearn.model_selection import train_test_split, cross_val_score, GridSearchCV, StratifiedKFold\n",
    "from sklearn.tree import DecisionTreeRegressor, DecisionTreeClassifier, plot_tree\n",
    "pd.set_option('display.max_rows',30)"
   ]
  },
  {
   "cell_type": "markdown",
   "metadata": {},
   "source": [
    "# Regression and Classification with Decision Tree and Random Forest.\n",
    "Includes: train_test_split, cross_val_score, StratifiedKFold, confusion_matrix, roc_curve, roc_auc_score and SelectKBest"
   ]
  },
  {
   "cell_type": "markdown",
   "metadata": {
    "id": "ZHdocWK4utrD"
   },
   "source": [
    "# 1) Regression"
   ]
  },
  {
   "cell_type": "markdown",
   "metadata": {
    "id": "wes2GxoT1221"
   },
   "source": [
    "We want to predict the value of real state in Buenos Aires, Argentina."
   ]
  },
  {
   "cell_type": "markdown",
   "metadata": {
    "id": "m0NY0UhRuyJJ"
   },
   "source": [
    "## 1.1) Decision Tree Regressor"
   ]
  },
  {
   "cell_type": "code",
   "execution_count": 64,
   "metadata": {
    "colab": {
     "base_uri": "https://localhost:8080/",
     "height": 224
    },
    "id": "UyjyeBdBYGlA",
    "outputId": "b3da9fea-dd0f-4991-bd4e-6532ee6a2476"
   },
   "outputs": [
    {
     "data": {
      "text/html": [
       "<div>\n",
       "<style scoped>\n",
       "    .dataframe tbody tr th:only-of-type {\n",
       "        vertical-align: middle;\n",
       "    }\n",
       "\n",
       "    .dataframe tbody tr th {\n",
       "        vertical-align: top;\n",
       "    }\n",
       "\n",
       "    .dataframe thead th {\n",
       "        text-align: right;\n",
       "    }\n",
       "</style>\n",
       "<table border=\"1\" class=\"dataframe\">\n",
       "  <thead>\n",
       "    <tr style=\"text-align: right;\">\n",
       "      <th></th>\n",
       "      <th>M2</th>\n",
       "      <th>AMBIENTES</th>\n",
       "      <th>ANTIGUEDAD</th>\n",
       "      <th>BAÑOS</th>\n",
       "      <th>LATITUD</th>\n",
       "      <th>LONGITUD</th>\n",
       "      <th>COMUNA</th>\n",
       "      <th>DOLARES</th>\n",
       "    </tr>\n",
       "  </thead>\n",
       "  <tbody>\n",
       "    <tr>\n",
       "      <th>0</th>\n",
       "      <td>81</td>\n",
       "      <td>3</td>\n",
       "      <td>4</td>\n",
       "      <td>1</td>\n",
       "      <td>-34.581078</td>\n",
       "      <td>-58.449433</td>\n",
       "      <td>COMUNA 13</td>\n",
       "      <td>225000</td>\n",
       "    </tr>\n",
       "    <tr>\n",
       "      <th>1</th>\n",
       "      <td>69</td>\n",
       "      <td>3</td>\n",
       "      <td>20</td>\n",
       "      <td>1</td>\n",
       "      <td>-34.623129</td>\n",
       "      <td>-58.439338</td>\n",
       "      <td>COMUNA 06</td>\n",
       "      <td>140000</td>\n",
       "    </tr>\n",
       "    <tr>\n",
       "      <th>2</th>\n",
       "      <td>75</td>\n",
       "      <td>3</td>\n",
       "      <td>20</td>\n",
       "      <td>1</td>\n",
       "      <td>-34.604972</td>\n",
       "      <td>-58.421278</td>\n",
       "      <td>COMUNA 05</td>\n",
       "      <td>154000</td>\n",
       "    </tr>\n",
       "    <tr>\n",
       "      <th>3</th>\n",
       "      <td>42</td>\n",
       "      <td>2</td>\n",
       "      <td>40</td>\n",
       "      <td>1</td>\n",
       "      <td>-34.604725</td>\n",
       "      <td>-58.399524</td>\n",
       "      <td>COMUNA 03</td>\n",
       "      <td>75000</td>\n",
       "    </tr>\n",
       "    <tr>\n",
       "      <th>4</th>\n",
       "      <td>90</td>\n",
       "      <td>3</td>\n",
       "      <td>1</td>\n",
       "      <td>1</td>\n",
       "      <td>-34.623390</td>\n",
       "      <td>-58.504401</td>\n",
       "      <td>COMUNA 10</td>\n",
       "      <td>149900</td>\n",
       "    </tr>\n",
       "  </tbody>\n",
       "</table>\n",
       "</div>"
      ],
      "text/plain": [
       "   M2  AMBIENTES  ANTIGUEDAD  BAÑOS    LATITUD   LONGITUD     COMUNA  DOLARES\n",
       "0  81          3           4      1 -34.581078 -58.449433  COMUNA 13   225000\n",
       "1  69          3          20      1 -34.623129 -58.439338  COMUNA 06   140000\n",
       "2  75          3          20      1 -34.604972 -58.421278  COMUNA 05   154000\n",
       "3  42          2          40      1 -34.604725 -58.399524  COMUNA 03    75000\n",
       "4  90          3           1      1 -34.623390 -58.504401  COMUNA 10   149900"
      ]
     },
     "execution_count": 64,
     "metadata": {},
     "output_type": "execute_result"
    }
   ],
   "source": [
    "filename = 'Precios_Departamentos_2016.csv'\n",
    "df = pd.read_csv(filename)\n",
    "df.head()"
   ]
  },
  {
   "cell_type": "code",
   "execution_count": 65,
   "metadata": {
    "id": "Yqzymm_VYkxu"
   },
   "outputs": [
    {
     "data": {
      "text/html": [
       "<div>\n",
       "<style scoped>\n",
       "    .dataframe tbody tr th:only-of-type {\n",
       "        vertical-align: middle;\n",
       "    }\n",
       "\n",
       "    .dataframe tbody tr th {\n",
       "        vertical-align: top;\n",
       "    }\n",
       "\n",
       "    .dataframe thead th {\n",
       "        text-align: right;\n",
       "    }\n",
       "</style>\n",
       "<table border=\"1\" class=\"dataframe\">\n",
       "  <thead>\n",
       "    <tr style=\"text-align: right;\">\n",
       "      <th></th>\n",
       "      <th>M2</th>\n",
       "      <th>AMBIENTES</th>\n",
       "      <th>ANTIGUEDAD</th>\n",
       "      <th>BAÑOS</th>\n",
       "      <th>LATITUD</th>\n",
       "      <th>LONGITUD</th>\n",
       "      <th>COMUNA</th>\n",
       "      <th>DOLARES</th>\n",
       "      <th>log10_DOLARES</th>\n",
       "    </tr>\n",
       "  </thead>\n",
       "  <tbody>\n",
       "    <tr>\n",
       "      <th>0</th>\n",
       "      <td>81</td>\n",
       "      <td>3</td>\n",
       "      <td>4</td>\n",
       "      <td>1</td>\n",
       "      <td>-34.581078</td>\n",
       "      <td>-58.449433</td>\n",
       "      <td>COMUNA 13</td>\n",
       "      <td>225000</td>\n",
       "      <td>5.352183</td>\n",
       "    </tr>\n",
       "    <tr>\n",
       "      <th>1</th>\n",
       "      <td>69</td>\n",
       "      <td>3</td>\n",
       "      <td>20</td>\n",
       "      <td>1</td>\n",
       "      <td>-34.623129</td>\n",
       "      <td>-58.439338</td>\n",
       "      <td>COMUNA 06</td>\n",
       "      <td>140000</td>\n",
       "      <td>5.146128</td>\n",
       "    </tr>\n",
       "    <tr>\n",
       "      <th>2</th>\n",
       "      <td>75</td>\n",
       "      <td>3</td>\n",
       "      <td>20</td>\n",
       "      <td>1</td>\n",
       "      <td>-34.604972</td>\n",
       "      <td>-58.421278</td>\n",
       "      <td>COMUNA 05</td>\n",
       "      <td>154000</td>\n",
       "      <td>5.187521</td>\n",
       "    </tr>\n",
       "    <tr>\n",
       "      <th>3</th>\n",
       "      <td>42</td>\n",
       "      <td>2</td>\n",
       "      <td>40</td>\n",
       "      <td>1</td>\n",
       "      <td>-34.604725</td>\n",
       "      <td>-58.399524</td>\n",
       "      <td>COMUNA 03</td>\n",
       "      <td>75000</td>\n",
       "      <td>4.875061</td>\n",
       "    </tr>\n",
       "    <tr>\n",
       "      <th>4</th>\n",
       "      <td>90</td>\n",
       "      <td>3</td>\n",
       "      <td>1</td>\n",
       "      <td>1</td>\n",
       "      <td>-34.623390</td>\n",
       "      <td>-58.504401</td>\n",
       "      <td>COMUNA 10</td>\n",
       "      <td>149900</td>\n",
       "      <td>5.175802</td>\n",
       "    </tr>\n",
       "  </tbody>\n",
       "</table>\n",
       "</div>"
      ],
      "text/plain": [
       "   M2  AMBIENTES  ANTIGUEDAD  BAÑOS    LATITUD   LONGITUD     COMUNA  DOLARES  \\\n",
       "0  81          3           4      1 -34.581078 -58.449433  COMUNA 13   225000   \n",
       "1  69          3          20      1 -34.623129 -58.439338  COMUNA 06   140000   \n",
       "2  75          3          20      1 -34.604972 -58.421278  COMUNA 05   154000   \n",
       "3  42          2          40      1 -34.604725 -58.399524  COMUNA 03    75000   \n",
       "4  90          3           1      1 -34.623390 -58.504401  COMUNA 10   149900   \n",
       "\n",
       "   log10_DOLARES  \n",
       "0       5.352183  \n",
       "1       5.146128  \n",
       "2       5.187521  \n",
       "3       4.875061  \n",
       "4       5.175802  "
      ]
     },
     "execution_count": 65,
     "metadata": {},
     "output_type": "execute_result"
    }
   ],
   "source": [
    "# Converts 'Dolares' column to logarihmic in order to improve prediction\n",
    "df['log10_DOLARES'] = np.log10(df['DOLARES']) \n",
    "df.head()"
   ]
  },
  {
   "cell_type": "code",
   "execution_count": 66,
   "metadata": {
    "colab": {
     "base_uri": "https://localhost:8080/"
    },
    "id": "E0WK1RQlYreU",
    "outputId": "02fbdfed-9249-4aa8-a59c-8ba933b061da"
   },
   "outputs": [
    {
     "name": "stdout",
     "output_type": "stream",
     "text": [
      "Size feature matrix: (2232, 6)\n",
      "Size target vector: (2232,)\n",
      "Vector to predict: [5.35218252 5.14612804 5.18752072 ... 5.71600334 5.12057393 5.25285303]\n"
     ]
    }
   ],
   "source": [
    "features = ['M2', 'AMBIENTES', 'ANTIGUEDAD', 'BAÑOS', 'LATITUD', 'LONGITUD'] \n",
    "target = 'log10_DOLARES'\n",
    "\n",
    "X = df[features].to_numpy()\n",
    "y = df[target].to_numpy()\n",
    "\n",
    "print(f'Size feature matrix: {X.shape}')\n",
    "print(f'Size target vector: {y.shape}')\n",
    "print(f'Vector to predict: {y}')"
   ]
  },
  {
   "cell_type": "code",
   "execution_count": 67,
   "metadata": {
    "colab": {
     "base_uri": "https://localhost:8080/"
    },
    "id": "v_ny4dtBY2KB",
    "outputId": "85db346c-750b-4b9e-dd52-f85c25c7d095"
   },
   "outputs": [
    {
     "name": "stdout",
     "output_type": "stream",
     "text": [
      "Size train matrix: (2008, 6)\n",
      "Size test matrix: (224, 6)\n",
      "Train score: 0.7803378153784164\n",
      "Test score: 0.8091233721971078\n"
     ]
    }
   ],
   "source": [
    "# Trains the DecisionTreeRegressor model with train/split and random seed value\n",
    "random_seed = 1453\n",
    "\n",
    "X_train_r, X_test_r, y_train_r, y_test_r = train_test_split(X, y, test_size = 0.10, random_state = random_seed)\n",
    "\n",
    "print(f'Size train matrix: {X_train_r.shape}')\n",
    "print(f'Size test matrix: {X_test_r.shape}')\n",
    "\n",
    "dtr = DecisionTreeRegressor(max_depth = 3, random_state = random_seed)\n",
    "dtr.fit(X_train_r, y_train_r)\n",
    "\n",
    "score_in_train = dtr.score(X_train_r, y_train_r)\n",
    "score_in_test = dtr.score(X_test_r, y_test_r)\n",
    "\n",
    "print(f'Train score: {score_in_train}')\n",
    "print(f'Test score: {score_in_test}')"
   ]
  },
  {
   "cell_type": "markdown",
   "metadata": {},
   "source": [
    "With the fix max_depth = 3, the tree shows us that m² are the main feature selection at the beginning of the split. Latitud join it later."
   ]
  },
  {
   "cell_type": "code",
   "execution_count": 68,
   "metadata": {
    "colab": {
     "base_uri": "https://localhost:8080/",
     "height": 957
    },
    "id": "PR6ptQ6oZQWF",
    "outputId": "42d23060-3740-4a85-fd7a-2f06235453b5"
   },
   "outputs": [
    {
     "data": {
      "text/plain": [
       "[Text(0.5, 0.875, 'M2 <= 79.5\\nsquared_error = 0.081\\nsamples = 2008\\nvalue = 5.202'),\n",
       " Text(0.25, 0.625, 'M2 <= 44.5\\nsquared_error = 0.03\\nsamples = 1330\\nvalue = 5.053'),\n",
       " Text(0.375, 0.75, 'True  '),\n",
       " Text(0.125, 0.375, 'M2 <= 34.5\\nsquared_error = 0.014\\nsamples = 536\\nvalue = 4.923'),\n",
       " Text(0.0625, 0.125, 'squared_error = 0.008\\nsamples = 189\\nvalue = 4.849'),\n",
       " Text(0.1875, 0.125, 'squared_error = 0.012\\nsamples = 347\\nvalue = 4.963'),\n",
       " Text(0.375, 0.375, 'LATITUD <= -34.604\\nsquared_error = 0.021\\nsamples = 794\\nvalue = 5.141'),\n",
       " Text(0.3125, 0.125, 'squared_error = 0.016\\nsamples = 280\\nvalue = 5.061'),\n",
       " Text(0.4375, 0.125, 'squared_error = 0.018\\nsamples = 514\\nvalue = 5.185'),\n",
       " Text(0.75, 0.625, 'M2 <= 116.5\\nsquared_error = 0.054\\nsamples = 678\\nvalue = 5.494'),\n",
       " Text(0.625, 0.75, '  False'),\n",
       " Text(0.625, 0.375, 'LATITUD <= -34.596\\nsquared_error = 0.02\\nsamples = 343\\nvalue = 5.34'),\n",
       " Text(0.5625, 0.125, 'squared_error = 0.019\\nsamples = 137\\nvalue = 5.272'),\n",
       " Text(0.6875, 0.125, 'squared_error = 0.015\\nsamples = 206\\nvalue = 5.385'),\n",
       " Text(0.875, 0.375, 'M2 <= 220.5\\nsquared_error = 0.04\\nsamples = 335\\nvalue = 5.652'),\n",
       " Text(0.8125, 0.125, 'squared_error = 0.031\\nsamples = 288\\nvalue = 5.614'),\n",
       " Text(0.9375, 0.125, 'squared_error = 0.034\\nsamples = 47\\nvalue = 5.881')]"
      ]
     },
     "execution_count": 68,
     "metadata": {},
     "output_type": "execute_result"
    },
    {
     "data": {
      "image/png": "[encoded data removed]",
      "text/plain": [
       "<Figure size 1500x800 with 1 Axes>"
      ]
     },
     "metadata": {},
     "output_type": "display_data"
    }
   ],
   "source": [
    "# Explores the tree model\n",
    "fig, ax = plt.subplots(figsize = (15, 8))\n",
    "plot_tree(dtr, feature_names=features, fontsize = 8, filled = True, ax = ax)"
   ]
  },
  {
   "cell_type": "markdown",
   "metadata": {
    "id": "niTWGFbRNqTX"
   },
   "source": [
    "### Feature engineering\n",
    "Let's iterate over some hyperparameters like max_depth, min_samples_split and min_samples_leaf."
   ]
  },
  {
   "cell_type": "code",
   "execution_count": 69,
   "metadata": {
    "id": "nJY08fCPNqTb"
   },
   "outputs": [],
   "source": [
    "# Trains and shows various scores with the set parameters\n",
    "def scores_train_test_cv (X_d, y_d, maxdepth, minsamplessplit, minsamplesleaf, random_seed, C):\n",
    "  dtr = DecisionTreeRegressor(max_depth = maxdepth, ccp_alpha=C, min_samples_split= minsamplessplit, min_samples_leaf= minsamplesleaf, random_state = random_seed) \n",
    "  X_train, X_test, y_train, y_test = train_test_split(X_d, y_d, test_size = 0.10, random_state = random_seed)\n",
    "  dtr.fit(X_train, y_train)\n",
    "  score_in_train = dtr.score(X_train, y_train)\n",
    "  score_in_test = dtr.score(X_test, y_test)\n",
    "\n",
    "  scores_cv = cross_val_score(dtr, X_d, y_d, cv = 5)\n",
    "\n",
    "  y_pred = dtr.predict(X_test)\n",
    "  mse = mean_squared_error(y_test, y_pred)\n",
    "  rmse = mse ** 0.5\n",
    "\n",
    "  return [round(score_in_train, 4), round(score_in_test, 4), round(rmse, 4), round(scores_cv.mean(), 4)]"
   ]
  },
  {
   "cell_type": "code",
   "execution_count": 70,
   "metadata": {
    "id": "9oSyHmMZNqTc"
   },
   "outputs": [],
   "source": [
    "# Finds max cv mean score\n",
    "def max_in_cv (df_var, name):\n",
    "  index_max = df_var.sort_values(by='cv mean score', ascending=False).index[0]\n",
    "  df_var['max cv'] = ''\n",
    "  df_var.loc[index_max, 'max cv'] = '*'\n",
    "  blankIndex=[''] * len(df_var)\n",
    "  df_var.index=blankIndex\n",
    "  return df_var[[name, 'train score',\t'test score', 'RMSE', 'cv mean score',\t'max cv', ]]"
   ]
  },
  {
   "cell_type": "code",
   "execution_count": 71,
   "metadata": {
    "id": "jy68HTa-NqTd",
    "outputId": "790dd6db-fbf8-4c5a-f020-2594a3f34ee5"
   },
   "outputs": [
    {
     "data": {
      "text/html": [
       "<div>\n",
       "<style scoped>\n",
       "    .dataframe tbody tr th:only-of-type {\n",
       "        vertical-align: middle;\n",
       "    }\n",
       "\n",
       "    .dataframe tbody tr th {\n",
       "        vertical-align: top;\n",
       "    }\n",
       "\n",
       "    .dataframe thead th {\n",
       "        text-align: right;\n",
       "    }\n",
       "</style>\n",
       "<table border=\"1\" class=\"dataframe\">\n",
       "  <thead>\n",
       "    <tr style=\"text-align: right;\">\n",
       "      <th></th>\n",
       "      <th>max_depth</th>\n",
       "      <th>train score</th>\n",
       "      <th>test score</th>\n",
       "      <th>RMSE</th>\n",
       "      <th>cv mean score</th>\n",
       "      <th>max cv</th>\n",
       "    </tr>\n",
       "  </thead>\n",
       "  <tbody>\n",
       "    <tr>\n",
       "      <th></th>\n",
       "      <td>1.0</td>\n",
       "      <td>0.5346</td>\n",
       "      <td>0.4968</td>\n",
       "      <td>0.2036</td>\n",
       "      <td>0.5169</td>\n",
       "      <td></td>\n",
       "    </tr>\n",
       "    <tr>\n",
       "      <th></th>\n",
       "      <td>2.0</td>\n",
       "      <td>0.7293</td>\n",
       "      <td>0.7344</td>\n",
       "      <td>0.1479</td>\n",
       "      <td>0.7094</td>\n",
       "      <td></td>\n",
       "    </tr>\n",
       "    <tr>\n",
       "      <th></th>\n",
       "      <td>3.0</td>\n",
       "      <td>0.7803</td>\n",
       "      <td>0.8091</td>\n",
       "      <td>0.1254</td>\n",
       "      <td>0.7660</td>\n",
       "      <td></td>\n",
       "    </tr>\n",
       "    <tr>\n",
       "      <th></th>\n",
       "      <td>4.0</td>\n",
       "      <td>0.8230</td>\n",
       "      <td>0.8398</td>\n",
       "      <td>0.1148</td>\n",
       "      <td>0.8100</td>\n",
       "      <td></td>\n",
       "    </tr>\n",
       "    <tr>\n",
       "      <th></th>\n",
       "      <td>5.0</td>\n",
       "      <td>0.8586</td>\n",
       "      <td>0.8398</td>\n",
       "      <td>0.1149</td>\n",
       "      <td>0.8289</td>\n",
       "      <td></td>\n",
       "    </tr>\n",
       "    <tr>\n",
       "      <th></th>\n",
       "      <td>6.0</td>\n",
       "      <td>0.8969</td>\n",
       "      <td>0.8659</td>\n",
       "      <td>0.1051</td>\n",
       "      <td>0.8351</td>\n",
       "      <td></td>\n",
       "    </tr>\n",
       "    <tr>\n",
       "      <th></th>\n",
       "      <td>7.0</td>\n",
       "      <td>0.9225</td>\n",
       "      <td>0.8833</td>\n",
       "      <td>0.0980</td>\n",
       "      <td>0.8412</td>\n",
       "      <td></td>\n",
       "    </tr>\n",
       "    <tr>\n",
       "      <th></th>\n",
       "      <td>8.0</td>\n",
       "      <td>0.9512</td>\n",
       "      <td>0.7806</td>\n",
       "      <td>0.1344</td>\n",
       "      <td>0.8487</td>\n",
       "      <td>*</td>\n",
       "    </tr>\n",
       "    <tr>\n",
       "      <th></th>\n",
       "      <td>9.0</td>\n",
       "      <td>0.9671</td>\n",
       "      <td>0.7761</td>\n",
       "      <td>0.1358</td>\n",
       "      <td>0.8460</td>\n",
       "      <td></td>\n",
       "    </tr>\n",
       "    <tr>\n",
       "      <th></th>\n",
       "      <td>10.0</td>\n",
       "      <td>0.9785</td>\n",
       "      <td>0.7784</td>\n",
       "      <td>0.1351</td>\n",
       "      <td>0.8466</td>\n",
       "      <td></td>\n",
       "    </tr>\n",
       "    <tr>\n",
       "      <th></th>\n",
       "      <td>11.0</td>\n",
       "      <td>0.9866</td>\n",
       "      <td>0.7844</td>\n",
       "      <td>0.1333</td>\n",
       "      <td>0.8370</td>\n",
       "      <td></td>\n",
       "    </tr>\n",
       "    <tr>\n",
       "      <th></th>\n",
       "      <td>12.0</td>\n",
       "      <td>0.9921</td>\n",
       "      <td>0.7897</td>\n",
       "      <td>0.1316</td>\n",
       "      <td>0.8396</td>\n",
       "      <td></td>\n",
       "    </tr>\n",
       "    <tr>\n",
       "      <th></th>\n",
       "      <td>13.0</td>\n",
       "      <td>0.9959</td>\n",
       "      <td>0.7995</td>\n",
       "      <td>0.1285</td>\n",
       "      <td>0.8403</td>\n",
       "      <td></td>\n",
       "    </tr>\n",
       "    <tr>\n",
       "      <th></th>\n",
       "      <td>14.0</td>\n",
       "      <td>0.9981</td>\n",
       "      <td>0.7938</td>\n",
       "      <td>0.1303</td>\n",
       "      <td>0.8358</td>\n",
       "      <td></td>\n",
       "    </tr>\n",
       "    <tr>\n",
       "      <th></th>\n",
       "      <td>15.0</td>\n",
       "      <td>0.9992</td>\n",
       "      <td>0.7783</td>\n",
       "      <td>0.1351</td>\n",
       "      <td>0.8344</td>\n",
       "      <td></td>\n",
       "    </tr>\n",
       "    <tr>\n",
       "      <th></th>\n",
       "      <td>16.0</td>\n",
       "      <td>0.9997</td>\n",
       "      <td>0.7865</td>\n",
       "      <td>0.1326</td>\n",
       "      <td>0.8367</td>\n",
       "      <td></td>\n",
       "    </tr>\n",
       "    <tr>\n",
       "      <th></th>\n",
       "      <td>17.0</td>\n",
       "      <td>0.9998</td>\n",
       "      <td>0.7950</td>\n",
       "      <td>0.1299</td>\n",
       "      <td>0.8369</td>\n",
       "      <td></td>\n",
       "    </tr>\n",
       "    <tr>\n",
       "      <th></th>\n",
       "      <td>18.0</td>\n",
       "      <td>0.9999</td>\n",
       "      <td>0.7896</td>\n",
       "      <td>0.1316</td>\n",
       "      <td>0.8395</td>\n",
       "      <td></td>\n",
       "    </tr>\n",
       "    <tr>\n",
       "      <th></th>\n",
       "      <td>19.0</td>\n",
       "      <td>0.9999</td>\n",
       "      <td>0.7979</td>\n",
       "      <td>0.1290</td>\n",
       "      <td>0.8399</td>\n",
       "      <td></td>\n",
       "    </tr>\n",
       "  </tbody>\n",
       "</table>\n",
       "</div>"
      ],
      "text/plain": [
       "  max_depth  train score  test score    RMSE  cv mean score max cv\n",
       "        1.0       0.5346      0.4968  0.2036         0.5169       \n",
       "        2.0       0.7293      0.7344  0.1479         0.7094       \n",
       "        3.0       0.7803      0.8091  0.1254         0.7660       \n",
       "        4.0       0.8230      0.8398  0.1148         0.8100       \n",
       "        5.0       0.8586      0.8398  0.1149         0.8289       \n",
       "        6.0       0.8969      0.8659  0.1051         0.8351       \n",
       "        7.0       0.9225      0.8833  0.0980         0.8412       \n",
       "        8.0       0.9512      0.7806  0.1344         0.8487      *\n",
       "        9.0       0.9671      0.7761  0.1358         0.8460       \n",
       "       10.0       0.9785      0.7784  0.1351         0.8466       \n",
       "       11.0       0.9866      0.7844  0.1333         0.8370       \n",
       "       12.0       0.9921      0.7897  0.1316         0.8396       \n",
       "       13.0       0.9959      0.7995  0.1285         0.8403       \n",
       "       14.0       0.9981      0.7938  0.1303         0.8358       \n",
       "       15.0       0.9992      0.7783  0.1351         0.8344       \n",
       "       16.0       0.9997      0.7865  0.1326         0.8367       \n",
       "       17.0       0.9998      0.7950  0.1299         0.8369       \n",
       "       18.0       0.9999      0.7896  0.1316         0.8395       \n",
       "       19.0       0.9999      0.7979  0.1290         0.8399       "
      ]
     },
     "execution_count": 71,
     "metadata": {},
     "output_type": "execute_result"
    }
   ],
   "source": [
    "# Iterates over max_depth. When the tree is too deep, the model tends to overfitt like is shown on the 'Score train' values.\n",
    "df_score = pd.DataFrame(data={'max_depth':[], 'train score':[], 'test score':[], 'RMSE':[], 'cv mean score':[]})\n",
    "for it in range(1,20):\n",
    "  list_var = [it]\n",
    "  list_var.extend(scores_train_test_cv(X, y, it, 2, 1, random_seed, 0.0))\n",
    "  df_score.loc[len(df_score)] = list_var\n",
    "\n",
    "max_in_cv (df_score,'max_depth')"
   ]
  },
  {
   "cell_type": "code",
   "execution_count": 72,
   "metadata": {
    "id": "YeRvfGJHNqTd",
    "outputId": "c38afbbe-2601-4808-83e4-3b9667bf004c"
   },
   "outputs": [
    {
     "data": {
      "text/html": [
       "<div>\n",
       "<style scoped>\n",
       "    .dataframe tbody tr th:only-of-type {\n",
       "        vertical-align: middle;\n",
       "    }\n",
       "\n",
       "    .dataframe tbody tr th {\n",
       "        vertical-align: top;\n",
       "    }\n",
       "\n",
       "    .dataframe thead th {\n",
       "        text-align: right;\n",
       "    }\n",
       "</style>\n",
       "<table border=\"1\" class=\"dataframe\">\n",
       "  <thead>\n",
       "    <tr style=\"text-align: right;\">\n",
       "      <th></th>\n",
       "      <th>min_samples_split</th>\n",
       "      <th>train score</th>\n",
       "      <th>test score</th>\n",
       "      <th>RMSE</th>\n",
       "      <th>cv mean score</th>\n",
       "      <th>max cv</th>\n",
       "    </tr>\n",
       "  </thead>\n",
       "  <tbody>\n",
       "    <tr>\n",
       "      <th></th>\n",
       "      <td>2.0</td>\n",
       "      <td>0.9999</td>\n",
       "      <td>0.7883</td>\n",
       "      <td>0.1320</td>\n",
       "      <td>0.8331</td>\n",
       "      <td></td>\n",
       "    </tr>\n",
       "    <tr>\n",
       "      <th></th>\n",
       "      <td>3.0</td>\n",
       "      <td>0.9976</td>\n",
       "      <td>0.7997</td>\n",
       "      <td>0.1284</td>\n",
       "      <td>0.8336</td>\n",
       "      <td></td>\n",
       "    </tr>\n",
       "    <tr>\n",
       "      <th></th>\n",
       "      <td>4.0</td>\n",
       "      <td>0.9949</td>\n",
       "      <td>0.7924</td>\n",
       "      <td>0.1307</td>\n",
       "      <td>0.8411</td>\n",
       "      <td></td>\n",
       "    </tr>\n",
       "    <tr>\n",
       "      <th></th>\n",
       "      <td>5.0</td>\n",
       "      <td>0.9920</td>\n",
       "      <td>0.7975</td>\n",
       "      <td>0.1291</td>\n",
       "      <td>0.8387</td>\n",
       "      <td></td>\n",
       "    </tr>\n",
       "    <tr>\n",
       "      <th></th>\n",
       "      <td>6.0</td>\n",
       "      <td>0.9884</td>\n",
       "      <td>0.7863</td>\n",
       "      <td>0.1326</td>\n",
       "      <td>0.8425</td>\n",
       "      <td></td>\n",
       "    </tr>\n",
       "    <tr>\n",
       "      <th></th>\n",
       "      <td>7.0</td>\n",
       "      <td>0.9849</td>\n",
       "      <td>0.7910</td>\n",
       "      <td>0.1312</td>\n",
       "      <td>0.8405</td>\n",
       "      <td></td>\n",
       "    </tr>\n",
       "    <tr>\n",
       "      <th></th>\n",
       "      <td>8.0</td>\n",
       "      <td>0.9813</td>\n",
       "      <td>0.7870</td>\n",
       "      <td>0.1324</td>\n",
       "      <td>0.8434</td>\n",
       "      <td></td>\n",
       "    </tr>\n",
       "    <tr>\n",
       "      <th></th>\n",
       "      <td>9.0</td>\n",
       "      <td>0.9784</td>\n",
       "      <td>0.7896</td>\n",
       "      <td>0.1316</td>\n",
       "      <td>0.8491</td>\n",
       "      <td></td>\n",
       "    </tr>\n",
       "    <tr>\n",
       "      <th></th>\n",
       "      <td>10.0</td>\n",
       "      <td>0.9751</td>\n",
       "      <td>0.7926</td>\n",
       "      <td>0.1307</td>\n",
       "      <td>0.8474</td>\n",
       "      <td></td>\n",
       "    </tr>\n",
       "    <tr>\n",
       "      <th></th>\n",
       "      <td>11.0</td>\n",
       "      <td>0.9715</td>\n",
       "      <td>0.7935</td>\n",
       "      <td>0.1304</td>\n",
       "      <td>0.8473</td>\n",
       "      <td></td>\n",
       "    </tr>\n",
       "    <tr>\n",
       "      <th></th>\n",
       "      <td>12.0</td>\n",
       "      <td>0.9690</td>\n",
       "      <td>0.7926</td>\n",
       "      <td>0.1307</td>\n",
       "      <td>0.8526</td>\n",
       "      <td></td>\n",
       "    </tr>\n",
       "    <tr>\n",
       "      <th></th>\n",
       "      <td>13.0</td>\n",
       "      <td>0.9666</td>\n",
       "      <td>0.7931</td>\n",
       "      <td>0.1305</td>\n",
       "      <td>0.8525</td>\n",
       "      <td></td>\n",
       "    </tr>\n",
       "    <tr>\n",
       "      <th></th>\n",
       "      <td>14.0</td>\n",
       "      <td>0.9653</td>\n",
       "      <td>0.7931</td>\n",
       "      <td>0.1305</td>\n",
       "      <td>0.8528</td>\n",
       "      <td>*</td>\n",
       "    </tr>\n",
       "    <tr>\n",
       "      <th></th>\n",
       "      <td>15.0</td>\n",
       "      <td>0.9639</td>\n",
       "      <td>0.7948</td>\n",
       "      <td>0.1300</td>\n",
       "      <td>0.8508</td>\n",
       "      <td></td>\n",
       "    </tr>\n",
       "    <tr>\n",
       "      <th></th>\n",
       "      <td>16.0</td>\n",
       "      <td>0.9601</td>\n",
       "      <td>0.7962</td>\n",
       "      <td>0.1295</td>\n",
       "      <td>0.8521</td>\n",
       "      <td></td>\n",
       "    </tr>\n",
       "    <tr>\n",
       "      <th></th>\n",
       "      <td>17.0</td>\n",
       "      <td>0.9583</td>\n",
       "      <td>0.7958</td>\n",
       "      <td>0.1297</td>\n",
       "      <td>0.8523</td>\n",
       "      <td></td>\n",
       "    </tr>\n",
       "    <tr>\n",
       "      <th></th>\n",
       "      <td>18.0</td>\n",
       "      <td>0.9560</td>\n",
       "      <td>0.7963</td>\n",
       "      <td>0.1295</td>\n",
       "      <td>0.8520</td>\n",
       "      <td></td>\n",
       "    </tr>\n",
       "    <tr>\n",
       "      <th></th>\n",
       "      <td>19.0</td>\n",
       "      <td>0.9537</td>\n",
       "      <td>0.7954</td>\n",
       "      <td>0.1298</td>\n",
       "      <td>0.8512</td>\n",
       "      <td></td>\n",
       "    </tr>\n",
       "  </tbody>\n",
       "</table>\n",
       "</div>"
      ],
      "text/plain": [
       "  min_samples_split  train score  test score    RMSE  cv mean score max cv\n",
       "                2.0       0.9999      0.7883  0.1320         0.8331       \n",
       "                3.0       0.9976      0.7997  0.1284         0.8336       \n",
       "                4.0       0.9949      0.7924  0.1307         0.8411       \n",
       "                5.0       0.9920      0.7975  0.1291         0.8387       \n",
       "                6.0       0.9884      0.7863  0.1326         0.8425       \n",
       "                7.0       0.9849      0.7910  0.1312         0.8405       \n",
       "                8.0       0.9813      0.7870  0.1324         0.8434       \n",
       "                9.0       0.9784      0.7896  0.1316         0.8491       \n",
       "               10.0       0.9751      0.7926  0.1307         0.8474       \n",
       "               11.0       0.9715      0.7935  0.1304         0.8473       \n",
       "               12.0       0.9690      0.7926  0.1307         0.8526       \n",
       "               13.0       0.9666      0.7931  0.1305         0.8525       \n",
       "               14.0       0.9653      0.7931  0.1305         0.8528      *\n",
       "               15.0       0.9639      0.7948  0.1300         0.8508       \n",
       "               16.0       0.9601      0.7962  0.1295         0.8521       \n",
       "               17.0       0.9583      0.7958  0.1297         0.8523       \n",
       "               18.0       0.9560      0.7963  0.1295         0.8520       \n",
       "               19.0       0.9537      0.7954  0.1298         0.8512       "
      ]
     },
     "execution_count": 72,
     "metadata": {},
     "output_type": "execute_result"
    }
   ],
   "source": [
    "# Iterates over min_samples_split\n",
    "df_score = pd.DataFrame(data={'min_samples_split':[], 'train score':[], 'test score':[], 'RMSE':[], 'cv mean score':[]})\n",
    "for it in range(2,20):\n",
    "  list_var = [it]\n",
    "  list_var.extend(scores_train_test_cv(X, y, None, it, 1, random_seed, 0.0))\n",
    "  df_score.loc[len(df_score)] = list_var\n",
    "\n",
    "max_in_cv (df_score, 'min_samples_split')"
   ]
  },
  {
   "cell_type": "markdown",
   "metadata": {
    "id": "k_1qbPmtNqTe"
   },
   "source": [
    "Iteration over min_samples_leaf."
   ]
  },
  {
   "cell_type": "code",
   "execution_count": 73,
   "metadata": {
    "id": "Y5eJT8O3NqTf",
    "outputId": "e561e5af-6577-481b-8e0e-caeac1767942"
   },
   "outputs": [
    {
     "data": {
      "text/html": [
       "<div>\n",
       "<style scoped>\n",
       "    .dataframe tbody tr th:only-of-type {\n",
       "        vertical-align: middle;\n",
       "    }\n",
       "\n",
       "    .dataframe tbody tr th {\n",
       "        vertical-align: top;\n",
       "    }\n",
       "\n",
       "    .dataframe thead th {\n",
       "        text-align: right;\n",
       "    }\n",
       "</style>\n",
       "<table border=\"1\" class=\"dataframe\">\n",
       "  <thead>\n",
       "    <tr style=\"text-align: right;\">\n",
       "      <th></th>\n",
       "      <th>min_samples_leaf</th>\n",
       "      <th>train score</th>\n",
       "      <th>test score</th>\n",
       "      <th>RMSE</th>\n",
       "      <th>cv mean score</th>\n",
       "      <th>max cv</th>\n",
       "    </tr>\n",
       "  </thead>\n",
       "  <tbody>\n",
       "    <tr>\n",
       "      <th></th>\n",
       "      <td>2.0</td>\n",
       "      <td>0.9818</td>\n",
       "      <td>0.8663</td>\n",
       "      <td>0.1049</td>\n",
       "      <td>0.8443</td>\n",
       "      <td></td>\n",
       "    </tr>\n",
       "    <tr>\n",
       "      <th></th>\n",
       "      <td>3.0</td>\n",
       "      <td>0.9683</td>\n",
       "      <td>0.8820</td>\n",
       "      <td>0.0986</td>\n",
       "      <td>0.8440</td>\n",
       "      <td></td>\n",
       "    </tr>\n",
       "    <tr>\n",
       "      <th></th>\n",
       "      <td>4.0</td>\n",
       "      <td>0.9584</td>\n",
       "      <td>0.8869</td>\n",
       "      <td>0.0965</td>\n",
       "      <td>0.8494</td>\n",
       "      <td></td>\n",
       "    </tr>\n",
       "    <tr>\n",
       "      <th></th>\n",
       "      <td>5.0</td>\n",
       "      <td>0.9495</td>\n",
       "      <td>0.8998</td>\n",
       "      <td>0.0908</td>\n",
       "      <td>0.8537</td>\n",
       "      <td></td>\n",
       "    </tr>\n",
       "    <tr>\n",
       "      <th></th>\n",
       "      <td>6.0</td>\n",
       "      <td>0.9415</td>\n",
       "      <td>0.9010</td>\n",
       "      <td>0.0903</td>\n",
       "      <td>0.8541</td>\n",
       "      <td></td>\n",
       "    </tr>\n",
       "    <tr>\n",
       "      <th></th>\n",
       "      <td>7.0</td>\n",
       "      <td>0.9344</td>\n",
       "      <td>0.8967</td>\n",
       "      <td>0.0922</td>\n",
       "      <td>0.8565</td>\n",
       "      <td>*</td>\n",
       "    </tr>\n",
       "    <tr>\n",
       "      <th></th>\n",
       "      <td>8.0</td>\n",
       "      <td>0.9290</td>\n",
       "      <td>0.8978</td>\n",
       "      <td>0.0917</td>\n",
       "      <td>0.8541</td>\n",
       "      <td></td>\n",
       "    </tr>\n",
       "    <tr>\n",
       "      <th></th>\n",
       "      <td>9.0</td>\n",
       "      <td>0.9240</td>\n",
       "      <td>0.9026</td>\n",
       "      <td>0.0896</td>\n",
       "      <td>0.8542</td>\n",
       "      <td></td>\n",
       "    </tr>\n",
       "    <tr>\n",
       "      <th></th>\n",
       "      <td>10.0</td>\n",
       "      <td>0.9200</td>\n",
       "      <td>0.8941</td>\n",
       "      <td>0.0934</td>\n",
       "      <td>0.8548</td>\n",
       "      <td></td>\n",
       "    </tr>\n",
       "    <tr>\n",
       "      <th></th>\n",
       "      <td>11.0</td>\n",
       "      <td>0.9148</td>\n",
       "      <td>0.8951</td>\n",
       "      <td>0.0929</td>\n",
       "      <td>0.8560</td>\n",
       "      <td></td>\n",
       "    </tr>\n",
       "    <tr>\n",
       "      <th></th>\n",
       "      <td>12.0</td>\n",
       "      <td>0.9129</td>\n",
       "      <td>0.8922</td>\n",
       "      <td>0.0942</td>\n",
       "      <td>0.8549</td>\n",
       "      <td></td>\n",
       "    </tr>\n",
       "    <tr>\n",
       "      <th></th>\n",
       "      <td>13.0</td>\n",
       "      <td>0.9102</td>\n",
       "      <td>0.8902</td>\n",
       "      <td>0.0951</td>\n",
       "      <td>0.8533</td>\n",
       "      <td></td>\n",
       "    </tr>\n",
       "    <tr>\n",
       "      <th></th>\n",
       "      <td>14.0</td>\n",
       "      <td>0.9068</td>\n",
       "      <td>0.8912</td>\n",
       "      <td>0.0947</td>\n",
       "      <td>0.8557</td>\n",
       "      <td></td>\n",
       "    </tr>\n",
       "    <tr>\n",
       "      <th></th>\n",
       "      <td>15.0</td>\n",
       "      <td>0.9056</td>\n",
       "      <td>0.8911</td>\n",
       "      <td>0.0947</td>\n",
       "      <td>0.8562</td>\n",
       "      <td></td>\n",
       "    </tr>\n",
       "    <tr>\n",
       "      <th></th>\n",
       "      <td>16.0</td>\n",
       "      <td>0.9036</td>\n",
       "      <td>0.8870</td>\n",
       "      <td>0.0964</td>\n",
       "      <td>0.8518</td>\n",
       "      <td></td>\n",
       "    </tr>\n",
       "    <tr>\n",
       "      <th></th>\n",
       "      <td>17.0</td>\n",
       "      <td>0.9000</td>\n",
       "      <td>0.8823</td>\n",
       "      <td>0.0985</td>\n",
       "      <td>0.8499</td>\n",
       "      <td></td>\n",
       "    </tr>\n",
       "    <tr>\n",
       "      <th></th>\n",
       "      <td>18.0</td>\n",
       "      <td>0.8989</td>\n",
       "      <td>0.8833</td>\n",
       "      <td>0.0980</td>\n",
       "      <td>0.8478</td>\n",
       "      <td></td>\n",
       "    </tr>\n",
       "    <tr>\n",
       "      <th></th>\n",
       "      <td>19.0</td>\n",
       "      <td>0.8973</td>\n",
       "      <td>0.8835</td>\n",
       "      <td>0.0979</td>\n",
       "      <td>0.8490</td>\n",
       "      <td></td>\n",
       "    </tr>\n",
       "  </tbody>\n",
       "</table>\n",
       "</div>"
      ],
      "text/plain": [
       "  min_samples_leaf  train score  test score    RMSE  cv mean score max cv\n",
       "               2.0       0.9818      0.8663  0.1049         0.8443       \n",
       "               3.0       0.9683      0.8820  0.0986         0.8440       \n",
       "               4.0       0.9584      0.8869  0.0965         0.8494       \n",
       "               5.0       0.9495      0.8998  0.0908         0.8537       \n",
       "               6.0       0.9415      0.9010  0.0903         0.8541       \n",
       "               7.0       0.9344      0.8967  0.0922         0.8565      *\n",
       "               8.0       0.9290      0.8978  0.0917         0.8541       \n",
       "               9.0       0.9240      0.9026  0.0896         0.8542       \n",
       "              10.0       0.9200      0.8941  0.0934         0.8548       \n",
       "              11.0       0.9148      0.8951  0.0929         0.8560       \n",
       "              12.0       0.9129      0.8922  0.0942         0.8549       \n",
       "              13.0       0.9102      0.8902  0.0951         0.8533       \n",
       "              14.0       0.9068      0.8912  0.0947         0.8557       \n",
       "              15.0       0.9056      0.8911  0.0947         0.8562       \n",
       "              16.0       0.9036      0.8870  0.0964         0.8518       \n",
       "              17.0       0.9000      0.8823  0.0985         0.8499       \n",
       "              18.0       0.8989      0.8833  0.0980         0.8478       \n",
       "              19.0       0.8973      0.8835  0.0979         0.8490       "
      ]
     },
     "execution_count": 73,
     "metadata": {},
     "output_type": "execute_result"
    }
   ],
   "source": [
    "df_score = pd.DataFrame(data={'min_samples_leaf':[], 'train score':[], 'test score':[], 'RMSE':[], 'cv mean score':[]})\n",
    "for it in range(2,20):\n",
    "  list_var = [it]\n",
    "  list_var.extend(scores_train_test_cv(X, y, None, 2, it, random_seed, 0.0))\n",
    "  df_score.loc[len(df_score)] = list_var\n",
    "\n",
    "max_in_cv (df_score, 'min_samples_leaf')"
   ]
  },
  {
   "cell_type": "markdown",
   "metadata": {
    "id": "RZOJQWvoNqTf"
   },
   "source": [
    "Iteration over alpha."
   ]
  },
  {
   "cell_type": "code",
   "execution_count": 74,
   "metadata": {
    "id": "UQFZ0IfyNqTf",
    "outputId": "e4f73ece-2c38-4d6b-ec33-24f4c7ab1958"
   },
   "outputs": [
    {
     "data": {
      "text/html": [
       "<div>\n",
       "<style scoped>\n",
       "    .dataframe tbody tr th:only-of-type {\n",
       "        vertical-align: middle;\n",
       "    }\n",
       "\n",
       "    .dataframe tbody tr th {\n",
       "        vertical-align: top;\n",
       "    }\n",
       "\n",
       "    .dataframe thead th {\n",
       "        text-align: right;\n",
       "    }\n",
       "</style>\n",
       "<table border=\"1\" class=\"dataframe\">\n",
       "  <thead>\n",
       "    <tr style=\"text-align: right;\">\n",
       "      <th></th>\n",
       "      <th>ccp_alpha</th>\n",
       "      <th>train score</th>\n",
       "      <th>test score</th>\n",
       "      <th>RMSE</th>\n",
       "      <th>cv mean score</th>\n",
       "      <th>max cv</th>\n",
       "    </tr>\n",
       "  </thead>\n",
       "  <tbody>\n",
       "    <tr>\n",
       "      <th></th>\n",
       "      <td>1.000000e-10</td>\n",
       "      <td>0.9999</td>\n",
       "      <td>0.7883</td>\n",
       "      <td>0.1320</td>\n",
       "      <td>0.8331</td>\n",
       "      <td></td>\n",
       "    </tr>\n",
       "    <tr>\n",
       "      <th></th>\n",
       "      <td>1.000000e-09</td>\n",
       "      <td>0.9999</td>\n",
       "      <td>0.7883</td>\n",
       "      <td>0.1320</td>\n",
       "      <td>0.8331</td>\n",
       "      <td></td>\n",
       "    </tr>\n",
       "    <tr>\n",
       "      <th></th>\n",
       "      <td>1.000000e-08</td>\n",
       "      <td>0.9999</td>\n",
       "      <td>0.7884</td>\n",
       "      <td>0.1320</td>\n",
       "      <td>0.8330</td>\n",
       "      <td></td>\n",
       "    </tr>\n",
       "    <tr>\n",
       "      <th></th>\n",
       "      <td>1.000000e-07</td>\n",
       "      <td>0.9998</td>\n",
       "      <td>0.7879</td>\n",
       "      <td>0.1322</td>\n",
       "      <td>0.8335</td>\n",
       "      <td></td>\n",
       "    </tr>\n",
       "    <tr>\n",
       "      <th></th>\n",
       "      <td>1.000000e-06</td>\n",
       "      <td>0.9979</td>\n",
       "      <td>0.7882</td>\n",
       "      <td>0.1321</td>\n",
       "      <td>0.8334</td>\n",
       "      <td></td>\n",
       "    </tr>\n",
       "    <tr>\n",
       "      <th></th>\n",
       "      <td>1.000000e-05</td>\n",
       "      <td>0.9755</td>\n",
       "      <td>0.7852</td>\n",
       "      <td>0.1330</td>\n",
       "      <td>0.8438</td>\n",
       "      <td>*</td>\n",
       "    </tr>\n",
       "    <tr>\n",
       "      <th></th>\n",
       "      <td>1.000000e-04</td>\n",
       "      <td>0.8966</td>\n",
       "      <td>0.7663</td>\n",
       "      <td>0.1387</td>\n",
       "      <td>0.8401</td>\n",
       "      <td></td>\n",
       "    </tr>\n",
       "    <tr>\n",
       "      <th></th>\n",
       "      <td>1.000000e-03</td>\n",
       "      <td>0.7640</td>\n",
       "      <td>0.7872</td>\n",
       "      <td>0.1324</td>\n",
       "      <td>0.7561</td>\n",
       "      <td></td>\n",
       "    </tr>\n",
       "    <tr>\n",
       "      <th></th>\n",
       "      <td>1.000000e-02</td>\n",
       "      <td>0.5346</td>\n",
       "      <td>0.4968</td>\n",
       "      <td>0.2036</td>\n",
       "      <td>0.5777</td>\n",
       "      <td></td>\n",
       "    </tr>\n",
       "    <tr>\n",
       "      <th></th>\n",
       "      <td>1.000000e-01</td>\n",
       "      <td>0.0000</td>\n",
       "      <td>-0.0162</td>\n",
       "      <td>0.2893</td>\n",
       "      <td>-0.0015</td>\n",
       "      <td></td>\n",
       "    </tr>\n",
       "    <tr>\n",
       "      <th></th>\n",
       "      <td>1.000000e+00</td>\n",
       "      <td>0.0000</td>\n",
       "      <td>-0.0162</td>\n",
       "      <td>0.2893</td>\n",
       "      <td>-0.0015</td>\n",
       "      <td></td>\n",
       "    </tr>\n",
       "  </tbody>\n",
       "</table>\n",
       "</div>"
      ],
      "text/plain": [
       "     ccp_alpha  train score  test score    RMSE  cv mean score max cv\n",
       "  1.000000e-10       0.9999      0.7883  0.1320         0.8331       \n",
       "  1.000000e-09       0.9999      0.7883  0.1320         0.8331       \n",
       "  1.000000e-08       0.9999      0.7884  0.1320         0.8330       \n",
       "  1.000000e-07       0.9998      0.7879  0.1322         0.8335       \n",
       "  1.000000e-06       0.9979      0.7882  0.1321         0.8334       \n",
       "  1.000000e-05       0.9755      0.7852  0.1330         0.8438      *\n",
       "  1.000000e-04       0.8966      0.7663  0.1387         0.8401       \n",
       "  1.000000e-03       0.7640      0.7872  0.1324         0.7561       \n",
       "  1.000000e-02       0.5346      0.4968  0.2036         0.5777       \n",
       "  1.000000e-01       0.0000     -0.0162  0.2893        -0.0015       \n",
       "  1.000000e+00       0.0000     -0.0162  0.2893        -0.0015       "
      ]
     },
     "execution_count": 74,
     "metadata": {},
     "output_type": "execute_result"
    }
   ],
   "source": [
    "df_score = pd.DataFrame(data={'ccp_alpha':[], 'train score':[], 'test score':[], 'RMSE':[], 'cv mean score':[]})\n",
    "for it in np.logspace(-10, 0, 11):\n",
    "  list_var = [it]\n",
    "  list_var.extend(scores_train_test_cv(X, y, None, 2, 1, random_seed, it))\n",
    "  df_score.loc[len(df_score)] = list_var\n",
    "\n",
    "max_in_cv (df_score, 'ccp_alpha')"
   ]
  },
  {
   "cell_type": "code",
   "execution_count": 75,
   "metadata": {
    "id": "LgsNZudwNqTg",
    "outputId": "3ae02215-3271-49be-d2f5-0b6f3c394326"
   },
   "outputs": [
    {
     "name": "stdout",
     "output_type": "stream",
     "text": [
      "RMSE score : 0.8558\n"
     ]
    }
   ],
   "source": [
    "# RMSE score with the best parameters obtained through the iterations\n",
    "v_train, v_test, v_cv, v_rmse = scores_train_test_cv(X, y, 8, 14, 7, random_seed, 10**-5)\n",
    "print(f'RMSE score : {round(v_rmse, 4)}')"
   ]
  },
  {
   "cell_type": "code",
   "execution_count": 76,
   "metadata": {
    "id": "qv7ib44INqTh"
   },
   "outputs": [
    {
     "name": "stdout",
     "output_type": "stream",
     "text": [
      "Fitting 5 folds for each of 71478 candidates, totalling 357390 fits\n",
      "{'ccp_alpha': np.float64(1e-05), 'max_depth': 14, 'min_samples_leaf': 1, 'min_samples_split': 12}\n",
      "Test RMSE score: 0.13169524667184473\n",
      "\n"
     ]
    }
   ],
   "source": [
    "param_grid = {\n",
    "    'ccp_alpha': np.logspace(-10, 0, 11),\n",
    "    'max_depth': range(1, 20, 1),\n",
    "    'min_samples_split': range(2, 20, 1),\n",
    "    'min_samples_leaf': range(1, 20, 1),\n",
    "}\n",
    "\n",
    "dtree_reg = DecisionTreeRegressor(random_state=random_seed) # Initialize a decision tree regressor\n",
    "grid_search = GridSearchCV(estimator=dtree_reg, param_grid=param_grid,\n",
    "                           cv=5, n_jobs=-1, verbose=2, scoring='neg_mean_squared_error')\n",
    "grid_search.fit(X_train_r, y_train_r)\n",
    "best_dtree_reg = grid_search.best_estimator_ # Get the best estimator from the grid search\n",
    "y_pred = best_dtree_reg.predict(X_test_r)\n",
    "mse = mean_squared_error(y_test_r, y_pred)\n",
    "rmse = mse ** 0.5\n",
    "best_params = grid_search.best_params_\n",
    "print(best_params)\n",
    "print(f\"Test RMSE score: {rmse}\\n\")"
   ]
  },
  {
   "cell_type": "markdown",
   "metadata": {},
   "source": [
    "Let's try with the grid search best parameters."
   ]
  },
  {
   "cell_type": "code",
   "execution_count": 77,
   "metadata": {},
   "outputs": [
    {
     "name": "stdout",
     "output_type": "stream",
     "text": [
      "RMSE Score: 0.1317\n"
     ]
    }
   ],
   "source": [
    "v_train, v_test, v_rmse, v_cv = scores_train_test_cv(X, y, 14, 12, 1, random_seed, 10**-5)\n",
    "print(f'RMSE Score: {v_rmse}')"
   ]
  },
  {
   "cell_type": "markdown",
   "metadata": {
    "id": "ZRIOUJTvsiu9"
   },
   "source": [
    "## 1.2) Random Forest Regressor"
   ]
  },
  {
   "cell_type": "code",
   "execution_count": 78,
   "metadata": {
    "colab": {
     "base_uri": "https://localhost:8080/"
    },
    "id": "aL86N0e2nxfA",
    "outputId": "c9cbe2d6-347f-48cf-8715-558a40727090"
   },
   "outputs": [
    {
     "name": "stdout",
     "output_type": "stream",
     "text": [
      "Test score Decision Tree: 0.7894\n",
      "Test score Random Forest with 100 estimator: 0.9296608480758846\n",
      "Test score Random Forest with 500 estimator: 0.9282997591476627\n",
      "Test score Random Forest with 1000 estimator: 0.9277432438610788\n"
     ]
    }
   ],
   "source": [
    "# Trains RandomForestRegressor with various n_estimators values\n",
    "v_train, v_test, v_rmse, v_cv = scores_train_test_cv(X, y, 14, 12, 1, random_seed, 10**-5)\n",
    "print(f'Test score Decision Tree: {v_test}')\n",
    "\n",
    "for estim in [100, 500, 1000]:\n",
    "    rfr = RandomForestRegressor(n_estimators=estim, random_state = random_seed)\n",
    "    rfr.fit(X_train_r, y_train_r)\n",
    "    score_in_test = rfr.score(X_test_r, y_test_r)\n",
    "    print(f'Test score Random Forest with {estim} estimator: {score_in_test}')"
   ]
  },
  {
   "cell_type": "markdown",
   "metadata": {},
   "source": [
    "Exploration of the feature importances of the Random Forest model."
   ]
  },
  {
   "cell_type": "code",
   "execution_count": 79,
   "metadata": {
    "colab": {
     "base_uri": "https://localhost:8080/",
     "height": 238
    },
    "id": "-LodFFUUoWSm",
    "outputId": "67df6cff-e4fc-491c-d308-27ba96b85740"
   },
   "outputs": [
    {
     "data": {
      "text/html": [
       "<div>\n",
       "<style scoped>\n",
       "    .dataframe tbody tr th:only-of-type {\n",
       "        vertical-align: middle;\n",
       "    }\n",
       "\n",
       "    .dataframe tbody tr th {\n",
       "        vertical-align: top;\n",
       "    }\n",
       "\n",
       "    .dataframe thead th {\n",
       "        text-align: right;\n",
       "    }\n",
       "</style>\n",
       "<table border=\"1\" class=\"dataframe\">\n",
       "  <thead>\n",
       "    <tr style=\"text-align: right;\">\n",
       "      <th></th>\n",
       "      <th>feature</th>\n",
       "      <th>importance</th>\n",
       "    </tr>\n",
       "  </thead>\n",
       "  <tbody>\n",
       "    <tr>\n",
       "      <th>0</th>\n",
       "      <td>M2</td>\n",
       "      <td>0.811218</td>\n",
       "    </tr>\n",
       "    <tr>\n",
       "      <th>1</th>\n",
       "      <td>LATITUD</td>\n",
       "      <td>0.080025</td>\n",
       "    </tr>\n",
       "    <tr>\n",
       "      <th>2</th>\n",
       "      <td>LONGITUD</td>\n",
       "      <td>0.051461</td>\n",
       "    </tr>\n",
       "    <tr>\n",
       "      <th>3</th>\n",
       "      <td>ANTIGUEDAD</td>\n",
       "      <td>0.038678</td>\n",
       "    </tr>\n",
       "    <tr>\n",
       "      <th>4</th>\n",
       "      <td>AMBIENTES</td>\n",
       "      <td>0.010917</td>\n",
       "    </tr>\n",
       "    <tr>\n",
       "      <th>5</th>\n",
       "      <td>BAÑOS</td>\n",
       "      <td>0.007701</td>\n",
       "    </tr>\n",
       "  </tbody>\n",
       "</table>\n",
       "</div>"
      ],
      "text/plain": [
       "      feature  importance\n",
       "0          M2    0.811218\n",
       "1     LATITUD    0.080025\n",
       "2    LONGITUD    0.051461\n",
       "3  ANTIGUEDAD    0.038678\n",
       "4   AMBIENTES    0.010917\n",
       "5       BAÑOS    0.007701"
      ]
     },
     "execution_count": 79,
     "metadata": {},
     "output_type": "execute_result"
    }
   ],
   "source": [
    "feature_importance = rfr.feature_importances_        \n",
    "\n",
    "pd.DataFrame(data={'feature':features, 'importance':feature_importance}).sort_values(by='importance', ascending=False).reset_index(drop=True)"
   ]
  },
  {
   "cell_type": "code",
   "execution_count": 80,
   "metadata": {
    "colab": {
     "base_uri": "https://localhost:8080/"
    },
    "id": "_pXTHlVTqaxf",
    "outputId": "f83fc4fa-66f1-458f-f6c5-d94d2a2e858a"
   },
   "outputs": [
    {
     "name": "stdout",
     "output_type": "stream",
     "text": [
      "Predicted value = $ 1163143.27\n",
      "Real value = $ 1750000.00\n"
     ]
    },
    {
     "data": {
      "text/html": [
       "<div>\n",
       "<style scoped>\n",
       "    .dataframe tbody tr th:only-of-type {\n",
       "        vertical-align: middle;\n",
       "    }\n",
       "\n",
       "    .dataframe tbody tr th {\n",
       "        vertical-align: top;\n",
       "    }\n",
       "\n",
       "    .dataframe thead th {\n",
       "        text-align: right;\n",
       "    }\n",
       "</style>\n",
       "<table border=\"1\" class=\"dataframe\">\n",
       "  <thead>\n",
       "    <tr style=\"text-align: right;\">\n",
       "      <th></th>\n",
       "      <th>feature</th>\n",
       "      <th>-</th>\n",
       "    </tr>\n",
       "  </thead>\n",
       "  <tbody>\n",
       "    <tr>\n",
       "      <th>0</th>\n",
       "      <td>M2</td>\n",
       "      <td>372.000000</td>\n",
       "    </tr>\n",
       "    <tr>\n",
       "      <th>1</th>\n",
       "      <td>AMBIENTES</td>\n",
       "      <td>6.000000</td>\n",
       "    </tr>\n",
       "    <tr>\n",
       "      <th>2</th>\n",
       "      <td>ANTIGUEDAD</td>\n",
       "      <td>30.000000</td>\n",
       "    </tr>\n",
       "    <tr>\n",
       "      <th>3</th>\n",
       "      <td>BAÑOS</td>\n",
       "      <td>4.000000</td>\n",
       "    </tr>\n",
       "    <tr>\n",
       "      <th>4</th>\n",
       "      <td>LATITUD</td>\n",
       "      <td>-34.581340</td>\n",
       "    </tr>\n",
       "    <tr>\n",
       "      <th>5</th>\n",
       "      <td>LONGITUD</td>\n",
       "      <td>-58.403788</td>\n",
       "    </tr>\n",
       "  </tbody>\n",
       "</table>\n",
       "</div>"
      ],
      "text/plain": [
       "      feature           -\n",
       "0          M2  372.000000\n",
       "1   AMBIENTES    6.000000\n",
       "2  ANTIGUEDAD   30.000000\n",
       "3       BAÑOS    4.000000\n",
       "4     LATITUD  -34.581340\n",
       "5    LONGITUD  -58.403788"
      ]
     },
     "execution_count": 80,
     "metadata": {},
     "output_type": "execute_result"
    }
   ],
   "source": [
    "predicted_log_value = rfr.predict(X_test_r[0].reshape(1, -1))\n",
    "print(f'Predicted value = $ {10**predicted_log_value.item():.2f}')\n",
    "print(f'Real value = $ {10**y_test_r[0]:.2f}')\n",
    "pd.DataFrame(data={'feature':features, '-':X_test_r[0]})"
   ]
  },
  {
   "cell_type": "markdown",
   "metadata": {
    "id": "z70uFk2svPcT"
   },
   "source": [
    "# 2) Classification\n",
    "Let's classify which areas are the houses from regarding the features given."
   ]
  },
  {
   "cell_type": "markdown",
   "metadata": {
    "id": "425rw2Op1R3z"
   },
   "source": [
    "## 2.1) Decision Tree Classifier"
   ]
  },
  {
   "cell_type": "code",
   "execution_count": 81,
   "metadata": {
    "colab": {
     "base_uri": "https://localhost:8080/",
     "height": 224
    },
    "id": "6wUTDe28rupj",
    "outputId": "fec21349-a657-4eea-929b-4216eaf55413"
   },
   "outputs": [
    {
     "name": "stdout",
     "output_type": "stream",
     "text": [
      "DF shape: (2232, 9)\n"
     ]
    },
    {
     "data": {
      "text/html": [
       "<div>\n",
       "<style scoped>\n",
       "    .dataframe tbody tr th:only-of-type {\n",
       "        vertical-align: middle;\n",
       "    }\n",
       "\n",
       "    .dataframe tbody tr th {\n",
       "        vertical-align: top;\n",
       "    }\n",
       "\n",
       "    .dataframe thead th {\n",
       "        text-align: right;\n",
       "    }\n",
       "</style>\n",
       "<table border=\"1\" class=\"dataframe\">\n",
       "  <thead>\n",
       "    <tr style=\"text-align: right;\">\n",
       "      <th></th>\n",
       "      <th>M2</th>\n",
       "      <th>AMBIENTES</th>\n",
       "      <th>ANTIGUEDAD</th>\n",
       "      <th>BAÑOS</th>\n",
       "      <th>LATITUD</th>\n",
       "      <th>LONGITUD</th>\n",
       "      <th>COMUNA</th>\n",
       "      <th>DOLARES</th>\n",
       "      <th>log10_DOLARES</th>\n",
       "    </tr>\n",
       "  </thead>\n",
       "  <tbody>\n",
       "    <tr>\n",
       "      <th>0</th>\n",
       "      <td>81</td>\n",
       "      <td>3</td>\n",
       "      <td>4</td>\n",
       "      <td>1</td>\n",
       "      <td>-34.581078</td>\n",
       "      <td>-58.449433</td>\n",
       "      <td>COMUNA 13</td>\n",
       "      <td>225000</td>\n",
       "      <td>5.352183</td>\n",
       "    </tr>\n",
       "    <tr>\n",
       "      <th>1</th>\n",
       "      <td>69</td>\n",
       "      <td>3</td>\n",
       "      <td>20</td>\n",
       "      <td>1</td>\n",
       "      <td>-34.623129</td>\n",
       "      <td>-58.439338</td>\n",
       "      <td>COMUNA 06</td>\n",
       "      <td>140000</td>\n",
       "      <td>5.146128</td>\n",
       "    </tr>\n",
       "    <tr>\n",
       "      <th>2</th>\n",
       "      <td>75</td>\n",
       "      <td>3</td>\n",
       "      <td>20</td>\n",
       "      <td>1</td>\n",
       "      <td>-34.604972</td>\n",
       "      <td>-58.421278</td>\n",
       "      <td>COMUNA 05</td>\n",
       "      <td>154000</td>\n",
       "      <td>5.187521</td>\n",
       "    </tr>\n",
       "    <tr>\n",
       "      <th>3</th>\n",
       "      <td>42</td>\n",
       "      <td>2</td>\n",
       "      <td>40</td>\n",
       "      <td>1</td>\n",
       "      <td>-34.604725</td>\n",
       "      <td>-58.399524</td>\n",
       "      <td>COMUNA 03</td>\n",
       "      <td>75000</td>\n",
       "      <td>4.875061</td>\n",
       "    </tr>\n",
       "    <tr>\n",
       "      <th>4</th>\n",
       "      <td>90</td>\n",
       "      <td>3</td>\n",
       "      <td>1</td>\n",
       "      <td>1</td>\n",
       "      <td>-34.623390</td>\n",
       "      <td>-58.504401</td>\n",
       "      <td>COMUNA 10</td>\n",
       "      <td>149900</td>\n",
       "      <td>5.175802</td>\n",
       "    </tr>\n",
       "  </tbody>\n",
       "</table>\n",
       "</div>"
      ],
      "text/plain": [
       "   M2  AMBIENTES  ANTIGUEDAD  BAÑOS    LATITUD   LONGITUD     COMUNA  DOLARES  \\\n",
       "0  81          3           4      1 -34.581078 -58.449433  COMUNA 13   225000   \n",
       "1  69          3          20      1 -34.623129 -58.439338  COMUNA 06   140000   \n",
       "2  75          3          20      1 -34.604972 -58.421278  COMUNA 05   154000   \n",
       "3  42          2          40      1 -34.604725 -58.399524  COMUNA 03    75000   \n",
       "4  90          3           1      1 -34.623390 -58.504401  COMUNA 10   149900   \n",
       "\n",
       "   log10_DOLARES  \n",
       "0       5.352183  \n",
       "1       5.146128  \n",
       "2       5.187521  \n",
       "3       4.875061  \n",
       "4       5.175802  "
      ]
     },
     "execution_count": 81,
     "metadata": {},
     "output_type": "execute_result"
    }
   ],
   "source": [
    "df = pd.read_csv(filename)                    \n",
    "df['log10_DOLARES'] = np.log10(df['DOLARES'])\n",
    "print(f'DF shape: {df.shape}')\n",
    "df.head()"
   ]
  },
  {
   "cell_type": "code",
   "execution_count": 82,
   "metadata": {
    "colab": {
     "base_uri": "https://localhost:8080/",
     "height": 206
    },
    "id": "EMK_iCzbr6cg",
    "outputId": "5daf6006-ceff-4100-8e9f-02ab3fede266"
   },
   "outputs": [
    {
     "data": {
      "text/html": [
       "<div>\n",
       "<style scoped>\n",
       "    .dataframe tbody tr th:only-of-type {\n",
       "        vertical-align: middle;\n",
       "    }\n",
       "\n",
       "    .dataframe tbody tr th {\n",
       "        vertical-align: top;\n",
       "    }\n",
       "\n",
       "    .dataframe thead th {\n",
       "        text-align: right;\n",
       "    }\n",
       "</style>\n",
       "<table border=\"1\" class=\"dataframe\">\n",
       "  <thead>\n",
       "    <tr style=\"text-align: right;\">\n",
       "      <th></th>\n",
       "      <th>M2</th>\n",
       "      <th>AMBIENTES</th>\n",
       "      <th>ANTIGUEDAD</th>\n",
       "      <th>BAÑOS</th>\n",
       "      <th>LATITUD</th>\n",
       "      <th>LONGITUD</th>\n",
       "      <th>COMUNA</th>\n",
       "      <th>DOLARES</th>\n",
       "      <th>log10_DOLARES</th>\n",
       "      <th>ZONA</th>\n",
       "    </tr>\n",
       "  </thead>\n",
       "  <tbody>\n",
       "    <tr>\n",
       "      <th>0</th>\n",
       "      <td>81</td>\n",
       "      <td>3</td>\n",
       "      <td>4</td>\n",
       "      <td>1</td>\n",
       "      <td>-34.581078</td>\n",
       "      <td>-58.449433</td>\n",
       "      <td>COMUNA 13</td>\n",
       "      <td>225000</td>\n",
       "      <td>5.352183</td>\n",
       "      <td>A</td>\n",
       "    </tr>\n",
       "    <tr>\n",
       "      <th>1</th>\n",
       "      <td>69</td>\n",
       "      <td>3</td>\n",
       "      <td>20</td>\n",
       "      <td>1</td>\n",
       "      <td>-34.623129</td>\n",
       "      <td>-58.439338</td>\n",
       "      <td>COMUNA 06</td>\n",
       "      <td>140000</td>\n",
       "      <td>5.146128</td>\n",
       "      <td>E</td>\n",
       "    </tr>\n",
       "    <tr>\n",
       "      <th>2</th>\n",
       "      <td>75</td>\n",
       "      <td>3</td>\n",
       "      <td>20</td>\n",
       "      <td>1</td>\n",
       "      <td>-34.604972</td>\n",
       "      <td>-58.421278</td>\n",
       "      <td>COMUNA 05</td>\n",
       "      <td>154000</td>\n",
       "      <td>5.187521</td>\n",
       "      <td>E</td>\n",
       "    </tr>\n",
       "    <tr>\n",
       "      <th>3</th>\n",
       "      <td>42</td>\n",
       "      <td>2</td>\n",
       "      <td>40</td>\n",
       "      <td>1</td>\n",
       "      <td>-34.604725</td>\n",
       "      <td>-58.399524</td>\n",
       "      <td>COMUNA 03</td>\n",
       "      <td>75000</td>\n",
       "      <td>4.875061</td>\n",
       "      <td>B</td>\n",
       "    </tr>\n",
       "    <tr>\n",
       "      <th>4</th>\n",
       "      <td>90</td>\n",
       "      <td>3</td>\n",
       "      <td>1</td>\n",
       "      <td>1</td>\n",
       "      <td>-34.623390</td>\n",
       "      <td>-58.504401</td>\n",
       "      <td>COMUNA 10</td>\n",
       "      <td>149900</td>\n",
       "      <td>5.175802</td>\n",
       "      <td>D</td>\n",
       "    </tr>\n",
       "  </tbody>\n",
       "</table>\n",
       "</div>"
      ],
      "text/plain": [
       "   M2  AMBIENTES  ANTIGUEDAD  BAÑOS    LATITUD   LONGITUD     COMUNA  DOLARES  \\\n",
       "0  81          3           4      1 -34.581078 -58.449433  COMUNA 13   225000   \n",
       "1  69          3          20      1 -34.623129 -58.439338  COMUNA 06   140000   \n",
       "2  75          3          20      1 -34.604972 -58.421278  COMUNA 05   154000   \n",
       "3  42          2          40      1 -34.604725 -58.399524  COMUNA 03    75000   \n",
       "4  90          3           1      1 -34.623390 -58.504401  COMUNA 10   149900   \n",
       "\n",
       "   log10_DOLARES ZONA  \n",
       "0       5.352183    A  \n",
       "1       5.146128    E  \n",
       "2       5.187521    E  \n",
       "3       4.875061    B  \n",
       "4       5.175802    D  "
      ]
     },
     "execution_count": 82,
     "metadata": {},
     "output_type": "execute_result"
    }
   ],
   "source": [
    "# Creates a new 'ZONA' column for target\n",
    "\n",
    "zonas = {'COMUNA 01': 'B', 'COMUNA 02': 'A', 'COMUNA 03': 'B',    # Relabel the areas\n",
    "         'COMUNA 04': 'C', 'COMUNA 05': 'E', 'COMUNA 06': 'E',\n",
    "         'COMUNA 07': 'E', 'COMUNA 08': 'C', 'COMUNA 09': 'D',\n",
    "         'COMUNA 10': 'D', 'COMUNA 11': 'D', 'COMUNA 12': 'A',\n",
    "         'COMUNA 13': 'A', 'COMUNA 14': 'A', 'COMUNA 15': 'E'}\n",
    "\n",
    "df['ZONA'] = df['COMUNA'].apply(lambda x: zonas[x])\n",
    "df.head()"
   ]
  },
  {
   "cell_type": "markdown",
   "metadata": {},
   "source": [
    "Decision tree use not to be quite affected by unbalanced classes."
   ]
  },
  {
   "cell_type": "code",
   "execution_count": 83,
   "metadata": {
    "colab": {
     "base_uri": "https://localhost:8080/"
    },
    "id": "yTsTKU84r-Iz",
    "outputId": "05f55d57-4dd3-4b7c-a901-cb1357888921"
   },
   "outputs": [
    {
     "name": "stdout",
     "output_type": "stream",
     "text": [
      "Labels ['A' 'B' 'C' 'D' 'E']\n",
      "Frequency [1138  400   58  104  532]\n"
     ]
    }
   ],
   "source": [
    "labels, counts = np.unique(df['ZONA'], return_counts=True)\n",
    "print(f'Labels {labels}')\n",
    "print(f'Frequency {counts}')"
   ]
  },
  {
   "cell_type": "code",
   "execution_count": 84,
   "metadata": {
    "id": "Sc8oB-0WsGpn"
   },
   "outputs": [
    {
     "name": "stdout",
     "output_type": "stream",
     "text": [
      "Train score: 0.5727091633466136\n",
      "Test score: 0.5982142857142857\n"
     ]
    }
   ],
   "source": [
    "# Trains de model\n",
    "random_seed = 1453\n",
    "\n",
    "features = ['M2', 'AMBIENTES', 'ANTIGUEDAD', 'BAÑOS', 'log10_DOLARES']\n",
    "target = 'ZONA'\n",
    "\n",
    "X = df[features].to_numpy()\n",
    "y = df[target].to_numpy()\n",
    "\n",
    "X_train_c, X_test_c, y_train_c, y_test_c = train_test_split(X, y, test_size = 0.10, random_state = random_seed)\n",
    "\n",
    "dtc = DecisionTreeClassifier(max_leaf_nodes = 5, random_state = random_seed)\n",
    "\n",
    "dtc.fit(X_train_c, y_train_c)\n",
    "score_in_train = dtc.score(X_train_c, y_train_c)\n",
    "score_in_test = dtc.score(X_test_c, y_test_c)\n",
    "\n",
    "print(f'Train score: {score_in_train}')\n",
    "print(f'Test score: {score_in_test}')"
   ]
  },
  {
   "cell_type": "markdown",
   "metadata": {},
   "source": [
    "We use \"gini\" as a degree of impurity of the leaf to select which feature is the best to split that particular node."
   ]
  },
  {
   "cell_type": "code",
   "execution_count": 85,
   "metadata": {
    "colab": {
     "base_uri": "https://localhost:8080/",
     "height": 850
    },
    "id": "-4HLI_NTshal",
    "outputId": "abf0f60c-2972-4f1d-ff63-c699e153a0bf"
   },
   "outputs": [
    {
     "data": {
      "text/plain": [
       "[Text(0.6, 0.9, 'log10_DOLARES <= 5.213\\ngini = 0.649\\nsamples = 2008\\nvalue = [1021, 359, 52, 94, 482]'),\n",
       " Text(0.4, 0.7, 'log10_DOLARES <= 4.941\\ngini = 0.714\\nsamples = 1150\\nvalue = [430, 255, 38, 79, 348]'),\n",
       " Text(0.5, 0.8, 'True  '),\n",
       " Text(0.2, 0.5, 'gini = 0.739\\nsamples = 379\\nvalue = [85, 140, 26, 34, 94]'),\n",
       " Text(0.6, 0.5, 'AMBIENTES <= 2.5\\ngini = 0.665\\nsamples = 771\\nvalue = [345, 115, 12, 45, 254]'),\n",
       " Text(0.4, 0.3, 'log10_DOLARES <= 4.974\\ngini = 0.555\\nsamples = 442\\nvalue = [267, 39, 4, 14, 118]'),\n",
       " Text(0.2, 0.1, 'gini = 0.613\\nsamples = 83\\nvalue = [27.0, 6.0, 0.0, 7.0, 43.0]'),\n",
       " Text(0.6, 0.1, 'gini = 0.5\\nsamples = 359\\nvalue = [240, 33, 4, 7, 75]'),\n",
       " Text(0.8, 0.3, 'gini = 0.71\\nsamples = 329\\nvalue = [78, 76, 8, 31, 136]'),\n",
       " Text(0.8, 0.7, 'gini = 0.486\\nsamples = 858\\nvalue = [591.0, 104.0, 14.0, 15.0, 134.0]'),\n",
       " Text(0.7, 0.8, '  False')]"
      ]
     },
     "execution_count": 85,
     "metadata": {},
     "output_type": "execute_result"
    },
    {
     "data": {
      "image/png": "[encoded data removed]",
      "text/plain": [
       "<Figure size 1500x800 with 1 Axes>"
      ]
     },
     "metadata": {},
     "output_type": "display_data"
    }
   ],
   "source": [
    "fig, ax = plt.subplots(figsize = (15, 8))\n",
    "plot_tree(dtc, feature_names=features, fontsize = 12, filled = True, ax = ax)"
   ]
  },
  {
   "cell_type": "code",
   "execution_count": 86,
   "metadata": {
    "colab": {
     "base_uri": "https://localhost:8080/"
    },
    "id": "KDPl9e6Gs-hd",
    "outputId": "eba8a38f-7fc8-49b4-ac72-8e528460d66d"
   },
   "outputs": [
    {
     "name": "stdout",
     "output_type": "stream",
     "text": [
      "Alpha value 1e-10 - CV mean score = 0.6763042642150843\n",
      "Alpha value 1e-09 - CV mean score = 0.6763042642150843\n",
      "Alpha value 1e-08 - CV mean score = 0.6763042642150843\n",
      "Alpha value 1e-07 - CV mean score = 0.6763042642150843\n",
      "Alpha value 1e-06 - CV mean score = 0.6763042642150843\n",
      "Alpha value 1e-05 - CV mean score = 0.6763042642150843\n",
      "Alpha value 0.0001 - CV mean score = 0.6763042642150843\n",
      "Alpha value 0.001 - CV mean score = 0.6628602622796242\n",
      "Alpha value 0.01 - CV mean score = 0.5528020744159502\n",
      "Alpha value 0.1 - CV mean score = 0.5084663961985583\n",
      "Alpha value 1.0 - CV mean score = 0.5084663961985583\n"
     ]
    }
   ],
   "source": [
    "# Fine tunning by iterating over alpha\n",
    "for alpha in np.logspace(-10, 0, 11):\n",
    "    dtc = DecisionTreeClassifier(ccp_alpha = alpha, random_state = random_seed)\n",
    "    scores = cross_val_score(dtc, X_train_c, y_train_c, cv = 5)\n",
    "    print(f'Alpha value {alpha} - CV mean score = {scores.mean()}')"
   ]
  },
  {
   "cell_type": "code",
   "execution_count": 87,
   "metadata": {
    "colab": {
     "base_uri": "https://localhost:8080/"
    },
    "id": "0L3lcWojugDK",
    "outputId": "2b82c4b2-01db-4163-c7b0-9e4b94bb510c"
   },
   "outputs": [
    {
     "name": "stdout",
     "output_type": "stream",
     "text": [
      "Test score: 0.6919642857142857\n"
     ]
    }
   ],
   "source": [
    "alpha = 10**-5\n",
    "dtr = DecisionTreeClassifier(ccp_alpha = alpha, random_state = random_seed)\n",
    "dtr.fit(X_train_c, y_train_c)\n",
    "print(f'Test score: {dtr.score(X_test_c, y_test_c)}')"
   ]
  },
  {
   "cell_type": "markdown",
   "metadata": {},
   "source": [
    "View of the probability of the target in each X_test case."
   ]
  },
  {
   "cell_type": "code",
   "execution_count": 88,
   "metadata": {
    "colab": {
     "base_uri": "https://localhost:8080/",
     "height": 424
    },
    "id": "WbgKAMwQux_9",
    "outputId": "36dcb1d8-603b-409e-bac9-876c67bd4081"
   },
   "outputs": [
    {
     "data": {
      "text/html": [
       "<div>\n",
       "<style scoped>\n",
       "    .dataframe tbody tr th:only-of-type {\n",
       "        vertical-align: middle;\n",
       "    }\n",
       "\n",
       "    .dataframe tbody tr th {\n",
       "        vertical-align: top;\n",
       "    }\n",
       "\n",
       "    .dataframe thead th {\n",
       "        text-align: right;\n",
       "    }\n",
       "</style>\n",
       "<table border=\"1\" class=\"dataframe\">\n",
       "  <thead>\n",
       "    <tr style=\"text-align: right;\">\n",
       "      <th></th>\n",
       "      <th>A</th>\n",
       "      <th>B</th>\n",
       "      <th>C</th>\n",
       "      <th>D</th>\n",
       "      <th>E</th>\n",
       "    </tr>\n",
       "  </thead>\n",
       "  <tbody>\n",
       "    <tr>\n",
       "      <th>0</th>\n",
       "      <td>1.000000</td>\n",
       "      <td>0.0</td>\n",
       "      <td>0.0</td>\n",
       "      <td>0.0</td>\n",
       "      <td>0.000000</td>\n",
       "    </tr>\n",
       "    <tr>\n",
       "      <th>1</th>\n",
       "      <td>1.000000</td>\n",
       "      <td>0.0</td>\n",
       "      <td>0.0</td>\n",
       "      <td>0.0</td>\n",
       "      <td>0.000000</td>\n",
       "    </tr>\n",
       "    <tr>\n",
       "      <th>2</th>\n",
       "      <td>0.000000</td>\n",
       "      <td>0.0</td>\n",
       "      <td>0.0</td>\n",
       "      <td>0.0</td>\n",
       "      <td>1.000000</td>\n",
       "    </tr>\n",
       "    <tr>\n",
       "      <th>3</th>\n",
       "      <td>0.071429</td>\n",
       "      <td>0.0</td>\n",
       "      <td>0.0</td>\n",
       "      <td>0.0</td>\n",
       "      <td>0.928571</td>\n",
       "    </tr>\n",
       "    <tr>\n",
       "      <th>4</th>\n",
       "      <td>1.000000</td>\n",
       "      <td>0.0</td>\n",
       "      <td>0.0</td>\n",
       "      <td>0.0</td>\n",
       "      <td>0.000000</td>\n",
       "    </tr>\n",
       "    <tr>\n",
       "      <th>...</th>\n",
       "      <td>...</td>\n",
       "      <td>...</td>\n",
       "      <td>...</td>\n",
       "      <td>...</td>\n",
       "      <td>...</td>\n",
       "    </tr>\n",
       "    <tr>\n",
       "      <th>219</th>\n",
       "      <td>1.000000</td>\n",
       "      <td>0.0</td>\n",
       "      <td>0.0</td>\n",
       "      <td>0.0</td>\n",
       "      <td>0.000000</td>\n",
       "    </tr>\n",
       "    <tr>\n",
       "      <th>220</th>\n",
       "      <td>0.000000</td>\n",
       "      <td>1.0</td>\n",
       "      <td>0.0</td>\n",
       "      <td>0.0</td>\n",
       "      <td>0.000000</td>\n",
       "    </tr>\n",
       "    <tr>\n",
       "      <th>221</th>\n",
       "      <td>1.000000</td>\n",
       "      <td>0.0</td>\n",
       "      <td>0.0</td>\n",
       "      <td>0.0</td>\n",
       "      <td>0.000000</td>\n",
       "    </tr>\n",
       "    <tr>\n",
       "      <th>222</th>\n",
       "      <td>0.000000</td>\n",
       "      <td>0.0</td>\n",
       "      <td>0.0</td>\n",
       "      <td>0.0</td>\n",
       "      <td>1.000000</td>\n",
       "    </tr>\n",
       "    <tr>\n",
       "      <th>223</th>\n",
       "      <td>1.000000</td>\n",
       "      <td>0.0</td>\n",
       "      <td>0.0</td>\n",
       "      <td>0.0</td>\n",
       "      <td>0.000000</td>\n",
       "    </tr>\n",
       "  </tbody>\n",
       "</table>\n",
       "<p>224 rows × 5 columns</p>\n",
       "</div>"
      ],
      "text/plain": [
       "            A    B    C    D         E\n",
       "0    1.000000  0.0  0.0  0.0  0.000000\n",
       "1    1.000000  0.0  0.0  0.0  0.000000\n",
       "2    0.000000  0.0  0.0  0.0  1.000000\n",
       "3    0.071429  0.0  0.0  0.0  0.928571\n",
       "4    1.000000  0.0  0.0  0.0  0.000000\n",
       "..        ...  ...  ...  ...       ...\n",
       "219  1.000000  0.0  0.0  0.0  0.000000\n",
       "220  0.000000  1.0  0.0  0.0  0.000000\n",
       "221  1.000000  0.0  0.0  0.0  0.000000\n",
       "222  0.000000  0.0  0.0  0.0  1.000000\n",
       "223  1.000000  0.0  0.0  0.0  0.000000\n",
       "\n",
       "[224 rows x 5 columns]"
      ]
     },
     "execution_count": 88,
     "metadata": {},
     "output_type": "execute_result"
    }
   ],
   "source": [
    "pd.DataFrame(data=dtr.predict_proba(X_test_c), columns=dtr.classes_)"
   ]
  },
  {
   "cell_type": "markdown",
   "metadata": {},
   "source": [
    "## 2.2) Decision Tree Binary Classifier"
   ]
  },
  {
   "cell_type": "markdown",
   "metadata": {},
   "source": [
    "Let's score the model using AUC."
   ]
  },
  {
   "cell_type": "code",
   "execution_count": 89,
   "metadata": {},
   "outputs": [
    {
     "name": "stdout",
     "output_type": "stream",
     "text": [
      "ZONA_A_B\n",
      "1    1124\n",
      "0    1108\n",
      "Name: count, dtype: int64\n",
      "\n",
      "Train score: 0.6862549800796812\n",
      "Test score: 0.7008928571428571\n",
      "\n"
     ]
    }
   ],
   "source": [
    "zonas_A_B = {'COMUNA 01': 1, 'COMUNA 02': 0, 'COMUNA 03': 1,   # Relabels areas in binary 0 / 1 and trains the model\n",
    "            'COMUNA 04': 1, 'COMUNA 05': 1, 'COMUNA 06': 1,\n",
    "            'COMUNA 07': 0, 'COMUNA 08': 1, 'COMUNA 09': 1,\n",
    "            'COMUNA 10': 0, 'COMUNA 11': 1, 'COMUNA 12': 1,\n",
    "            'COMUNA 13': 0, 'COMUNA 14': 0, 'COMUNA 15': 1}\n",
    "\n",
    "df['ZONA_A_B'] = df['COMUNA'].apply(lambda x: zonas_A_B[x])\n",
    "\n",
    "features = ['M2', 'AMBIENTES', 'ANTIGUEDAD', 'BAÑOS', 'log10_DOLARES']\n",
    "target = 'ZONA_A_B'\n",
    "\n",
    "X = df[features].to_numpy()\n",
    "y = df[target].to_numpy()\n",
    "\n",
    "X_train, X_test, y_train, y_test = train_test_split(X, y, test_size = 0.10 )\n",
    "dtcb = DecisionTreeClassifier(max_leaf_nodes = 5 ) \n",
    "\n",
    "dtcb.fit(X_train, y_train)\n",
    "train_score = dtcb.score(X_train, y_train)\n",
    "test_score = dtcb.score(X_test, y_test)\n",
    "\n",
    "print(f\"{df['ZONA_A_B'].value_counts()}\\n\")\n",
    "\n",
    "print(f'Train score: {train_score}')\n",
    "print(f'Test score: {test_score}\\n')\n",
    "\n",
    "probas = dtcb.predict_proba(X_test) "
   ]
  },
  {
   "cell_type": "code",
   "execution_count": 90,
   "metadata": {},
   "outputs": [
    {
     "name": "stdout",
     "output_type": "stream",
     "text": [
      "Confusion matrix:\n",
      "[[82 35]\n",
      " [32 75]]\n",
      "\n",
      "True positive rate: 0.7009\n",
      "False positive rate: 0.2991\n"
     ]
    }
   ],
   "source": [
    "# Example of Confusion Matrix, TPR and FPR with a 0.4 value of threshold\n",
    "def TPR_FPR(cm): \n",
    "  TPR = cm[0,0]/(cm[0,0]+cm[0,1])\n",
    "  FPR = cm[1,0]/(cm[1,0]+cm[1,1])\n",
    "  return [TPR,FPR] \n",
    "\n",
    "T = 0.4 \n",
    "ypred = np.zeros(probas.shape[0])       # Creates a 'probas''s length new 'ypred' column with zeros values\n",
    "ypred[probas[:,1]>T] = 1                # In 'ypred' col puts 1 on values higher than T value\n",
    "cm = confusion_matrix(y_test, ypred)\n",
    "metricas = TPR_FPR(cm)\n",
    "\n",
    "print('Confusion matrix:')\n",
    "print(cm)\n",
    "print(f'\\nTrue positive rate: {round(metricas[0],4)}')\n",
    "print(f'False positive rate: {round(metricas[1],4)}')"
   ]
  },
  {
   "cell_type": "code",
   "execution_count": 91,
   "metadata": {},
   "outputs": [
    {
     "name": "stdout",
     "output_type": "stream",
     "text": [
      "[[  0. 114.]\n",
      " [  1. 110.]]\n"
     ]
    }
   ],
   "source": [
    "# Ratio target labels\n",
    "unique, counts = np.unique(ypred, return_counts=True)\n",
    "print(np.asarray((unique, counts)).T)"
   ]
  },
  {
   "cell_type": "code",
   "execution_count": 92,
   "metadata": {},
   "outputs": [
    {
     "name": "stdout",
     "output_type": "stream",
     "text": [
      "[0.   0.05 0.1  0.15 0.2  0.25 0.3  0.35 0.4  0.45 0.5  0.55 0.6  0.65\n",
      " 0.7  0.75 0.8  0.85 0.9  0.95]\n"
     ]
    },
    {
     "data": {
      "text/plain": [
       "Text(0, 0.5, 'True positive rate')"
      ]
     },
     "execution_count": 92,
     "metadata": {},
     "output_type": "execute_result"
    },
    {
     "data": {
      "image/png": "[encoded data removed]",
      "text/plain": [
       "<Figure size 500x300 with 1 Axes>"
      ]
     },
     "metadata": {},
     "output_type": "display_data"
    }
   ],
   "source": [
    "# Plots TPR vs FPR while changes the threshold\n",
    "Ts = np.arange(0,1,0.05) \n",
    "print(Ts)\n",
    "TPRs = []  \n",
    "FPRs = [] \n",
    "for T in Ts:\n",
    "  ypred = np.zeros(probas.shape[0]) \n",
    "  ypred[probas[:,1]>T] = 1 \n",
    "  cm = confusion_matrix(y_test, ypred) \n",
    "  metricas = TPR_FPR(cm) \n",
    "  TPRs.append(metricas[0]) \n",
    "  FPRs.append(metricas[1])\n",
    "\n",
    "fig, ax = plt.subplots(figsize = (5,3))\n",
    "ax.set_title('True positive vs. False positive')\n",
    "ax.scatter(FPRs,TPRs)\n",
    "ax.set_xlabel('False positive rate') \n",
    "ax.set_ylabel('True positive rate')"
   ]
  },
  {
   "cell_type": "code",
   "execution_count": 93,
   "metadata": {},
   "outputs": [
    {
     "name": "stdout",
     "output_type": "stream",
     "text": [
      "AUC: 0.7494\n"
     ]
    },
    {
     "data": {
      "image/png": "[encoded data removed]",
      "text/plain": [
       "<Figure size 500x300 with 1 Axes>"
      ]
     },
     "metadata": {},
     "output_type": "display_data"
    }
   ],
   "source": [
    "# Plots the ROC and calulates AUC\n",
    "fpr, tpr, thresholds = roc_curve(y_test, probas[:,1]) \n",
    "fig, ax = plt.subplots(figsize = (5,3))\n",
    "ax.set_title('True positive vs. False positive')\n",
    "ax.plot(fpr,tpr) \n",
    "ax.set_xlabel('False positive rate') \n",
    "ax.set_ylabel('True positive rate')\n",
    "\n",
    "auc = roc_auc_score(y_test, probas[:,1]) \n",
    "\n",
    "print(f'AUC: {round(auc,4)}') "
   ]
  },
  {
   "cell_type": "markdown",
   "metadata": {},
   "source": [
    "### StratifiedKFold\n",
    "The feature - target data is somehow balanced. But every time we train-split, that ratio is not guaranteed to be balanced again. Let's use StratifiedKFold to compensate this. <br> It yields no significant AUC improvement."
   ]
  },
  {
   "cell_type": "code",
   "execution_count": 94,
   "metadata": {},
   "outputs": [
    {
     "name": "stdout",
     "output_type": "stream",
     "text": [
      "AUC means: 0.7037714042824337\n"
     ]
    }
   ],
   "source": [
    "skf = StratifiedKFold(n_splits=5, shuffle=True)     \n",
    "skf.get_n_splits(X, y) \n",
    "\n",
    "auc_values = []            # Stores the auc_values of each skf.split to means AUC\n",
    "\n",
    "for train_index, test_index in skf.split(X, y):               # Train-split by index dictated by skf.split.          \n",
    "    X_train, X_test = X[train_index], X[test_index] \n",
    "    y_train, y_test = y[train_index], y[test_index]    \n",
    "\n",
    "    dtcb = DecisionTreeClassifier(max_leaf_nodes = 5 )         # Create, fit and predict_probas of the model\n",
    "    dtcb.fit(X_train, y_train)\n",
    "    probas_test = dtcb.predict_proba(X_test) \n",
    "\n",
    "    auc_test = roc_auc_score(y_test, probas_test[:,1])          # Calculate auc_score\n",
    "\n",
    "    auc_values.append(auc_test)\n",
    "\n",
    "print(f'AUC means: {np.mean(auc_values)}')"
   ]
  },
  {
   "cell_type": "markdown",
   "metadata": {},
   "source": [
    "### Feature engineering\n",
    "Let's try expanding the feature field by elevating the features to the power of 2, 3, 4 y 5. <br> It yields no significant AUC improvement."
   ]
  },
  {
   "cell_type": "code",
   "execution_count": 95,
   "metadata": {},
   "outputs": [
    {
     "name": "stdout",
     "output_type": "stream",
     "text": [
      "AUC means: 0.6995351470976471\n"
     ]
    }
   ],
   "source": [
    "skf = StratifiedKFold(n_splits=5, shuffle=True) \n",
    "\n",
    "X_cb_features_ing = np.concatenate((X, X**2,X**3,X**4, X**5), axis=1) # Elevate the features to the powers and concat.\n",
    "\n",
    "skf.get_n_splits(X_cb_features_ing, y) \n",
    "\n",
    "auc_values = []     \n",
    "\n",
    "for train_index, test_index in skf.split(X_cb_features_ing, y):                \n",
    "    X_train, X_test = X_cb_features_ing[train_index], X_cb_features_ing[test_index] \n",
    "    y_train, y_test = y[train_index], y[test_index]    \n",
    "\n",
    "    dtcb = DecisionTreeClassifier(max_leaf_nodes = 5 ) \n",
    "    dtcb.fit(X_train, y_train)\n",
    "    probas_test = dtcb.predict_proba(X_test) \n",
    "\n",
    "    auc_test = roc_auc_score(y_test, probas_test[:,1]) \n",
    "\n",
    "    auc_values.append(auc_test)\n",
    "\n",
    "print(f'AUC means: {np.mean(auc_values)}')"
   ]
  },
  {
   "cell_type": "markdown",
   "metadata": {},
   "source": [
    "### SelectKBest\n",
    "With SelectKBest we will explore the importance of each feature per StratifiedKFold split. In this case let's see the best 3 features. <br>\n",
    "It yields no significant AUC improvement."
   ]
  },
  {
   "cell_type": "code",
   "execution_count": 96,
   "metadata": {},
   "outputs": [
    {
     "name": "stdout",
     "output_type": "stream",
     "text": [
      "AUC means: 0.7009743697317227\n"
     ]
    },
    {
     "data": {
      "text/plain": [
       "Text(0, 0.5, 'Folds')"
      ]
     },
     "execution_count": 96,
     "metadata": {},
     "output_type": "execute_result"
    },
    {
     "data": {
      "image/png": "[encoded data removed]",
      "text/plain": [
       "<Figure size 700x300 with 1 Axes>"
      ]
     },
     "metadata": {},
     "output_type": "display_data"
    }
   ],
   "source": [
    "Kbest = 3  # Best K features it will hold\n",
    "\n",
    "skf = StratifiedKFold(n_splits=5, shuffle=True)     \n",
    "skf.get_n_splits(X, y) \n",
    "  \n",
    "auc_values_fs =  []     # Stores the auc_values of each skf.split per feature selected means AUC later\n",
    "selected_features= np.array([]).reshape(0,X.shape[1]) \n",
    "\n",
    "for train_index, test_index in skf.split(X, y): \n",
    "    X_train, X_test= X[train_index], X[test_index]\n",
    "    y_train, y_test= y[train_index], y[test_index]     \n",
    "\n",
    "    selector = SelectKBest(k=Kbest) \n",
    "    selector.fit(X_train, y_train)\n",
    "    X_train_fs = selector.transform(X_train) \n",
    "    X_test_fs = selector.transform(X_test) \n",
    "    features = np.array(selector.get_support()).reshape((1,-1))\n",
    "    selected_features =  np.concatenate((selected_features,features),axis=0)\n",
    "\n",
    "    dtcb = DecisionTreeClassifier(max_leaf_nodes = 5 ) \n",
    "    dtcb.fit(X_train_fs, y_train)\n",
    "    probas_test = dtcb.predict_proba(X_test_fs) \n",
    "\n",
    "    auc_test = roc_auc_score(y_test, probas_test[:,1]) \n",
    "    auc_values_fs.append(auc_test)\n",
    "\n",
    "print(f'AUC means: {np.mean(auc_values_fs)}')\n",
    "\n",
    "plt.figure(figsize=(7,3)) \n",
    "plt.bar(np.arange(0,X.shape[1]),np.sum(selected_features,axis=0))\n",
    "plt.title('Selection features')\n",
    "plt.xlabel('Feature')\n",
    "plt.xticks(np.arange(0,X.shape[1]), ['M2', 'AMBIENTES', 'ANTIGUEDAD', 'BAÑOS', 'log10_DOLARES'])\n",
    "plt.ylabel('Folds')\n"
   ]
  },
  {
   "cell_type": "markdown",
   "metadata": {},
   "source": [
    "By setting only 1 KBest we will find the most important feature regarding the clasification model. <br>\n",
    "That feature is 'log10_DOLARES' during the 5 splits and the model yields no significant AUC improvement. So this columns it's the most important for this model in order to classify."
   ]
  },
  {
   "cell_type": "code",
   "execution_count": 97,
   "metadata": {},
   "outputs": [
    {
     "name": "stdout",
     "output_type": "stream",
     "text": [
      "AUC means: 0.6941744186817717\n"
     ]
    },
    {
     "data": {
      "text/plain": [
       "Text(0, 0.5, 'Folds')"
      ]
     },
     "execution_count": 97,
     "metadata": {},
     "output_type": "execute_result"
    },
    {
     "data": {
      "image/png": "[encoded data removed]",
      "text/plain": [
       "<Figure size 700x300 with 1 Axes>"
      ]
     },
     "metadata": {},
     "output_type": "display_data"
    }
   ],
   "source": [
    "Kbest = 1 \n",
    "\n",
    "skf = StratifiedKFold(n_splits=5, shuffle=True) \n",
    "skf.get_n_splits(X, y) \n",
    "\n",
    "auc_values = []            \n",
    "probas_values = np.array([])    # Stores the predict_proba of each skf.split to ROC later \n",
    "targets = np.array([])          # Stores the y_test of each skf.split to ROC later\n",
    "\n",
    "selected_features= np.array([]).reshape(0,X.shape[1]) \n",
    "\n",
    "for train_index, test_index in skf.split(X, y):\n",
    "    X_train, X_test = X[train_index], X[test_index] \n",
    "    y_train, y_test = y[train_index], y[test_index]    \n",
    "\n",
    "    selector = SelectKBest(k=Kbest) \n",
    "    selector.fit(X_train, y_train) \n",
    "    X_train_fs = selector.transform(X_train) \n",
    "    X_test_fs = selector.transform(X_test) \n",
    "    features = np.array(selector.get_support()).reshape((1,-1)) \n",
    "\n",
    "    selected_features =  np.concatenate((selected_features,features),axis=0)\n",
    "    dtcb = DecisionTreeClassifier(max_leaf_nodes = 5 ) \n",
    "    dtcb.fit(X_train_fs, y_train)\n",
    "    probas_test = dtcb.predict_proba(X_test_fs) \n",
    "\n",
    "    auc_test = roc_auc_score(y_test, probas_test[:,1]) \n",
    "\n",
    "    probas_values = np.concatenate((probas_values,probas_test[:,1]),axis=0)\n",
    "    auc_values.append(auc_test)\n",
    "    targets = np.concatenate((targets,y_test),axis=0)\n",
    "\n",
    "print(f'AUC means: {np.mean(auc_values)}')\n",
    "\n",
    "plt.figure(figsize=(7,3))\n",
    "plt.bar(np.arange(0,X.shape[1]),np.sum(selected_features,axis=0))\n",
    "plt.title('Selection features')\n",
    "plt.xlabel('Feature')\n",
    "plt.xticks(np.arange(0,X.shape[1]), ['M2', 'AMBIENTES', 'ANTIGUEDAD', 'BAÑOS', 'log10_DOLARES'])\n",
    "plt.ylabel('Folds')"
   ]
  },
  {
   "cell_type": "markdown",
   "metadata": {},
   "source": [
    "And how do we know our model is better than chance level? We will shuffle the train data in order to break any relationship between them and the Test one. Then calculate its AUC and plot it."
   ]
  },
  {
   "cell_type": "code",
   "execution_count": 98,
   "metadata": {},
   "outputs": [],
   "source": [
    "y_shuffled = y.copy() \n",
    "shuffle(y_shuffled)\n",
    "\n",
    "skf = StratifiedKFold(n_splits=5, shuffle=True) \n",
    "skf.get_n_splits(X, y_shuffled) \n",
    "\n",
    "auc_values_shuffled = [] \n",
    "probas_values_shuffled = np.array([])    \n",
    "targets_shuffled = np.array([])    \n",
    "\n",
    "for train_index, test_index in skf.split(X,y_shuffled): \n",
    "    X_train, X_test = X[train_index], X[test_index] \n",
    "    y_train, y_test = y_shuffled[train_index], y_shuffled[test_index]     \n",
    "\n",
    "    selector = SelectKBest(k=Kbest) \n",
    "    selector.fit(X_train, y_train) \n",
    "    X_train_fs = selector.transform(X_train) \n",
    "    X_test_fs = selector.transform(X_test) \n",
    "    features = np.array(selector.get_support()).reshape((1,-1))\n",
    "    selected_features =  np.concatenate((selected_features,features),axis=0)\n",
    "\n",
    "    dtcb = DecisionTreeClassifier(max_leaf_nodes = 5 ) \n",
    "    dtcb.fit(X_train_fs, y_train)\n",
    "    probas_test = dtcb.predict_proba(X_test_fs) \n",
    "    \n",
    "    auc_test_shuffled = roc_auc_score(y_test, probas_test[:,1]) \n",
    "\n",
    "    auc_values_shuffled.append(auc_test_shuffled)\n",
    "    probas_values_shuffled = np.concatenate((probas_values_shuffled,probas_test[:,1]),axis=0)\n",
    "    targets_shuffled = np.concatenate((targets_shuffled,y_test),axis=0)"
   ]
  },
  {
   "cell_type": "markdown",
   "metadata": {},
   "source": [
    "Compared with the chance level, only the column 'log10_DOLARES' is a good classifier."
   ]
  },
  {
   "cell_type": "code",
   "execution_count": 99,
   "metadata": {},
   "outputs": [
    {
     "name": "stdout",
     "output_type": "stream",
     "text": [
      "Normal AUC means: 0.6941744186817717\n",
      "Shuffled AUC means: 0.49862527111791816\n"
     ]
    },
    {
     "data": {
      "text/plain": [
       "<matplotlib.legend.Legend at 0x240fe581f30>"
      ]
     },
     "execution_count": 99,
     "metadata": {},
     "output_type": "execute_result"
    },
    {
     "data": {
      "image/png": "[encoded data removed]",
      "text/plain": [
       "<Figure size 500x300 with 1 Axes>"
      ]
     },
     "metadata": {},
     "output_type": "display_data"
    }
   ],
   "source": [
    "fpr, tpr, thresholds = roc_curve(targets, probas_values)\n",
    "fpr_shuffled, tpr_shuffled, thresholds_shuffled = roc_curve(targets_shuffled, probas_values_shuffled)\n",
    "\n",
    "print(f'Normal AUC means: {np.mean(auc_values)}')\n",
    "print(f'Shuffled AUC means: {np.mean(auc_values_shuffled)}')\n",
    "\n",
    "fig, ax = plt.subplots(figsize = (5,3))\n",
    "ax.set_title('True positive vs. false positive')\n",
    "ax.plot(fpr,tpr, label='Real model')\n",
    "ax.plot(fpr_shuffled,tpr_shuffled, label='Null model')\n",
    "\n",
    "ax.set_xlabel('False positive rate') \n",
    "ax.set_ylabel('True positive rate') \n",
    "plt.legend()"
   ]
  },
  {
   "cell_type": "markdown",
   "metadata": {
    "id": "9MSxKgOT0w0b"
   },
   "source": [
    "## 2.3) Random Forest Binary Classifier <br>\n",
    "Using a plain Random Forest we get a very good AUC. Exploring a bit we expose the same feature importance as in the previous Decision Tree. While trying to use StratifiedKFold no significant AUC improvement is yielded."
   ]
  },
  {
   "cell_type": "code",
   "execution_count": 100,
   "metadata": {
    "colab": {
     "base_uri": "https://localhost:8080/"
    },
    "id": "7GWIppCWv_J5",
    "outputId": "1526b83b-1b30-4ce7-8c2e-948d2833d60a"
   },
   "outputs": [
    {
     "name": "stdout",
     "output_type": "stream",
     "text": [
      "Accuracy score Random Forest with 100 estimator: 0.83929\n",
      "Accuracy score Random Forest with 500 estimator: 0.84821\n",
      "Accuracy score Random Forest with 1000 estimator: 0.85268\n"
     ]
    }
   ],
   "source": [
    "features = ['M2', 'AMBIENTES', 'ANTIGUEDAD', 'BAÑOS', 'log10_DOLARES']\n",
    "target = 'ZONA_A_B'\n",
    "\n",
    "X = df[features].to_numpy()\n",
    "y = df[target].to_numpy()\n",
    "\n",
    "X_train, X_test, y_train, y_test = train_test_split(X, y, test_size = 0.10 ) \n",
    "\n",
    "for estim in [100, 500, 1000]:\n",
    "    rfcb = RandomForestClassifier(n_estimators=estim)\n",
    "    rfcb.fit(X_train, y_train)\n",
    "    probas_rfcb = rfcb.predict_proba(X_test)\n",
    "    print(f'Accuracy score Random Forest with {estim} estimator: {round(rfcb.score(X_test, y_test), 5)}')"
   ]
  },
  {
   "cell_type": "code",
   "execution_count": 101,
   "metadata": {
    "colab": {
     "base_uri": "https://localhost:8080/"
    },
    "id": "p6jeK4n9w6P6",
    "outputId": "c7fbed6b-1a21-4679-b04e-204a41c605eb"
   },
   "outputs": [
    {
     "data": {
      "text/html": [
       "<div>\n",
       "<style scoped>\n",
       "    .dataframe tbody tr th:only-of-type {\n",
       "        vertical-align: middle;\n",
       "    }\n",
       "\n",
       "    .dataframe tbody tr th {\n",
       "        vertical-align: top;\n",
       "    }\n",
       "\n",
       "    .dataframe thead th {\n",
       "        text-align: right;\n",
       "    }\n",
       "</style>\n",
       "<table border=\"1\" class=\"dataframe\">\n",
       "  <thead>\n",
       "    <tr style=\"text-align: right;\">\n",
       "      <th></th>\n",
       "      <th>feature</th>\n",
       "      <th>importance</th>\n",
       "    </tr>\n",
       "  </thead>\n",
       "  <tbody>\n",
       "    <tr>\n",
       "      <th>0</th>\n",
       "      <td>log10_DOLARES</td>\n",
       "      <td>0.407307</td>\n",
       "    </tr>\n",
       "    <tr>\n",
       "      <th>1</th>\n",
       "      <td>M2</td>\n",
       "      <td>0.305329</td>\n",
       "    </tr>\n",
       "    <tr>\n",
       "      <th>2</th>\n",
       "      <td>ANTIGUEDAD</td>\n",
       "      <td>0.190450</td>\n",
       "    </tr>\n",
       "    <tr>\n",
       "      <th>3</th>\n",
       "      <td>AMBIENTES</td>\n",
       "      <td>0.061418</td>\n",
       "    </tr>\n",
       "    <tr>\n",
       "      <th>4</th>\n",
       "      <td>BAÑOS</td>\n",
       "      <td>0.035496</td>\n",
       "    </tr>\n",
       "  </tbody>\n",
       "</table>\n",
       "</div>"
      ],
      "text/plain": [
       "         feature  importance\n",
       "0  log10_DOLARES    0.407307\n",
       "1             M2    0.305329\n",
       "2     ANTIGUEDAD    0.190450\n",
       "3      AMBIENTES    0.061418\n",
       "4          BAÑOS    0.035496"
      ]
     },
     "execution_count": 101,
     "metadata": {},
     "output_type": "execute_result"
    }
   ],
   "source": [
    "# Explores feature importance\n",
    "feature_importance = rfcb.feature_importances_\n",
    "pd.DataFrame(data={'feature':features, 'importance':feature_importance}).sort_values(by='importance', ascending=False).reset_index(drop=True)"
   ]
  },
  {
   "cell_type": "code",
   "execution_count": 102,
   "metadata": {},
   "outputs": [
    {
     "name": "stdout",
     "output_type": "stream",
     "text": [
      "AUC: 0.9217\n"
     ]
    },
    {
     "data": {
      "image/png": "[encoded data removed]",
      "text/plain": [
       "<Figure size 500x300 with 1 Axes>"
      ]
     },
     "metadata": {},
     "output_type": "display_data"
    }
   ],
   "source": [
    "# Plots the ROC and calulates AUC\n",
    "fpr, tpr, thresholds = roc_curve(y_test, probas_rfcb[:,1]) \n",
    "\n",
    "fig, ax = plt.subplots(figsize = (5,3))\n",
    "ax.set_title('True Positive vs. False positive')\n",
    "ax.plot(fpr,tpr) \n",
    "ax.set_xlabel('False Positive rate') \n",
    "ax.set_ylabel('True Positive Rate')\n",
    "\n",
    "auc = roc_auc_score(y_test, probas_rfcb[:,1]) \n",
    "\n",
    "print(f'AUC: {format(round(auc,4))}')"
   ]
  },
  {
   "cell_type": "code",
   "execution_count": 103,
   "metadata": {},
   "outputs": [
    {
     "name": "stdout",
     "output_type": "stream",
     "text": [
      "AUC means: 0.8850005147358088\n"
     ]
    }
   ],
   "source": [
    "skf = StratifiedKFold(n_splits=5, shuffle=True) \n",
    "skf.get_n_splits(X, y) \n",
    "\n",
    "auc_values = []          \n",
    "\n",
    "for train_index, test_index in skf.split(X, y):                \n",
    "    X_train, X_test = X[train_index], X[test_index] \n",
    "    y_train, y_test = y[train_index], y[test_index] \n",
    "\n",
    "    rfcb = RandomForestClassifier(n_estimators=100)\n",
    "    rfcb.fit(X_train, y_train) \n",
    "\n",
    "    probas_test = rfcb.predict_proba(X_test) \n",
    "\n",
    "    auc_test = roc_auc_score(y_test, probas_test[:,1]) \n",
    "\n",
    "    auc_values.append(auc_test)\n",
    "\n",
    "print(f'AUC means: {np.mean(auc_values)}')"
   ]
  }
 ],
 "metadata": {
  "colab": {
   "provenance": []
  },
  "kernelspec": {
   "display_name": "myenv",
   "language": "python",
   "name": "python3"
  },
  "language_info": {
   "codemirror_mode": {
    "name": "ipython",
    "version": 3
   },
   "file_extension": ".py",
   "mimetype": "text/x-python",
   "name": "python",
   "nbconvert_exporter": "python",
   "pygments_lexer": "ipython3",
   "version": "3.10.18"
  }
 },
 "nbformat": 4,
 "nbformat_minor": 0
}
